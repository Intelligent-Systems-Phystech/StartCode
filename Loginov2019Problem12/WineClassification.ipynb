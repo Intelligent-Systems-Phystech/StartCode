{
 "cells": [
  {
   "cell_type": "code",
   "execution_count": 17,
   "metadata": {},
   "outputs": [],
   "source": [
    "import numpy as np\n",
    "from sklearn import model_selection, datasets, metrics, neighbors\n",
    "from sklearn import preprocessing\n",
    "\n",
    "import numpy as np\n",
    "import pandas as pd\n",
    "from matplotlib import pyplot as plt\n",
    "\n",
    "%matplotlib inline"
   ]
  },
  {
   "cell_type": "code",
   "execution_count": 18,
   "metadata": {},
   "outputs": [],
   "source": [
    "# установка рекомендуемых параметров для графиков\n",
    "plt.rcParams['font.family'] = 'serif'\n",
    "plt.rcParams['font.serif'] = 'FreeSerif'\n",
    "plt.rcParams['lines.linewidth'] = 2\n",
    "plt.rcParams['lines.markersize'] = 12\n",
    "plt.rcParams['xtick.labelsize'] = 24\n",
    "plt.rcParams['ytick.labelsize'] = 24\n",
    "plt.rcParams['legend.fontsize'] = 24\n",
    "plt.rcParams['axes.titlesize'] = 36\n",
    "plt.rcParams['axes.labelsize'] = 24"
   ]
  },
  {
   "cell_type": "markdown",
   "metadata": {},
   "source": [
    "### Классификация сорта винограда с помощью kNN"
   ]
  },
  {
   "cell_type": "markdown",
   "metadata": {},
   "source": [
    "Построим модель для классификации сорта винограда, из которого сделано вино. Для этого используем данные химических исследований, которые находятся в открытом доступе: [Wine data](https://archive.ics.uci.edu/ml/machine-learning-databases/wine)\n",
    "\n",
    "**Загрузка данных**"
   ]
  },
  {
   "cell_type": "code",
   "execution_count": 19,
   "metadata": {},
   "outputs": [
    {
     "data": {
      "text/html": [
       "<div>\n",
       "<style scoped>\n",
       "    .dataframe tbody tr th:only-of-type {\n",
       "        vertical-align: middle;\n",
       "    }\n",
       "\n",
       "    .dataframe tbody tr th {\n",
       "        vertical-align: top;\n",
       "    }\n",
       "\n",
       "    .dataframe thead th {\n",
       "        text-align: right;\n",
       "    }\n",
       "</style>\n",
       "<table border=\"1\" class=\"dataframe\">\n",
       "  <thead>\n",
       "    <tr style=\"text-align: right;\">\n",
       "      <th></th>\n",
       "      <th>Class</th>\n",
       "      <th>Alcohol</th>\n",
       "      <th>Malic acid</th>\n",
       "      <th>Ash</th>\n",
       "      <th>Alcalinity of ash</th>\n",
       "      <th>Magnesium</th>\n",
       "      <th>Total phenols</th>\n",
       "      <th>Flavanoids</th>\n",
       "      <th>Nonflavanoid phenols</th>\n",
       "      <th>Proanthocyanins</th>\n",
       "      <th>Color intensity</th>\n",
       "      <th>Hue</th>\n",
       "      <th>OD280/OD315 of diluted wines</th>\n",
       "      <th>Proline</th>\n",
       "    </tr>\n",
       "  </thead>\n",
       "  <tbody>\n",
       "    <tr>\n",
       "      <th>0</th>\n",
       "      <td>1</td>\n",
       "      <td>14.23</td>\n",
       "      <td>1.71</td>\n",
       "      <td>2.43</td>\n",
       "      <td>15.6</td>\n",
       "      <td>127</td>\n",
       "      <td>2.80</td>\n",
       "      <td>3.06</td>\n",
       "      <td>0.28</td>\n",
       "      <td>2.29</td>\n",
       "      <td>5.64</td>\n",
       "      <td>1.04</td>\n",
       "      <td>3.92</td>\n",
       "      <td>1065</td>\n",
       "    </tr>\n",
       "    <tr>\n",
       "      <th>1</th>\n",
       "      <td>1</td>\n",
       "      <td>13.20</td>\n",
       "      <td>1.78</td>\n",
       "      <td>2.14</td>\n",
       "      <td>11.2</td>\n",
       "      <td>100</td>\n",
       "      <td>2.65</td>\n",
       "      <td>2.76</td>\n",
       "      <td>0.26</td>\n",
       "      <td>1.28</td>\n",
       "      <td>4.38</td>\n",
       "      <td>1.05</td>\n",
       "      <td>3.40</td>\n",
       "      <td>1050</td>\n",
       "    </tr>\n",
       "    <tr>\n",
       "      <th>2</th>\n",
       "      <td>1</td>\n",
       "      <td>13.16</td>\n",
       "      <td>2.36</td>\n",
       "      <td>2.67</td>\n",
       "      <td>18.6</td>\n",
       "      <td>101</td>\n",
       "      <td>2.80</td>\n",
       "      <td>3.24</td>\n",
       "      <td>0.30</td>\n",
       "      <td>2.81</td>\n",
       "      <td>5.68</td>\n",
       "      <td>1.03</td>\n",
       "      <td>3.17</td>\n",
       "      <td>1185</td>\n",
       "    </tr>\n",
       "    <tr>\n",
       "      <th>3</th>\n",
       "      <td>1</td>\n",
       "      <td>14.37</td>\n",
       "      <td>1.95</td>\n",
       "      <td>2.50</td>\n",
       "      <td>16.8</td>\n",
       "      <td>113</td>\n",
       "      <td>3.85</td>\n",
       "      <td>3.49</td>\n",
       "      <td>0.24</td>\n",
       "      <td>2.18</td>\n",
       "      <td>7.80</td>\n",
       "      <td>0.86</td>\n",
       "      <td>3.45</td>\n",
       "      <td>1480</td>\n",
       "    </tr>\n",
       "    <tr>\n",
       "      <th>4</th>\n",
       "      <td>1</td>\n",
       "      <td>13.24</td>\n",
       "      <td>2.59</td>\n",
       "      <td>2.87</td>\n",
       "      <td>21.0</td>\n",
       "      <td>118</td>\n",
       "      <td>2.80</td>\n",
       "      <td>2.69</td>\n",
       "      <td>0.39</td>\n",
       "      <td>1.82</td>\n",
       "      <td>4.32</td>\n",
       "      <td>1.04</td>\n",
       "      <td>2.93</td>\n",
       "      <td>735</td>\n",
       "    </tr>\n",
       "  </tbody>\n",
       "</table>\n",
       "</div>"
      ],
      "text/plain": [
       "   Class  Alcohol  Malic acid   Ash  Alcalinity of ash  Magnesium  \\\n",
       "0      1    14.23        1.71  2.43               15.6        127   \n",
       "1      1    13.20        1.78  2.14               11.2        100   \n",
       "2      1    13.16        2.36  2.67               18.6        101   \n",
       "3      1    14.37        1.95  2.50               16.8        113   \n",
       "4      1    13.24        2.59  2.87               21.0        118   \n",
       "\n",
       "   Total phenols  Flavanoids  Nonflavanoid phenols  Proanthocyanins  \\\n",
       "0           2.80        3.06                  0.28             2.29   \n",
       "1           2.65        2.76                  0.26             1.28   \n",
       "2           2.80        3.24                  0.30             2.81   \n",
       "3           3.85        3.49                  0.24             2.18   \n",
       "4           2.80        2.69                  0.39             1.82   \n",
       "\n",
       "   Color intensity   Hue  OD280/OD315 of diluted wines  Proline  \n",
       "0             5.64  1.04                          3.92     1065  \n",
       "1             4.38  1.05                          3.40     1050  \n",
       "2             5.68  1.03                          3.17     1185  \n",
       "3             7.80  0.86                          3.45     1480  \n",
       "4             4.32  1.04                          2.93      735  "
      ]
     },
     "execution_count": 19,
     "metadata": {},
     "output_type": "execute_result"
    }
   ],
   "source": [
    "columns = ['Class', 'Alcohol', 'Malic acid', 'Ash', 'Alcalinity of ash',  \n",
    "           'Magnesium', 'Total phenols', 'Flavanoids', 'Nonflavanoid phenols',\n",
    "           'Proanthocyanins', 'Color intensity', 'Hue', 'OD280/OD315 of diluted wines', 'Proline']\n",
    "wine_df = pd.read_csv('wine.data', header = None, names = columns)\n",
    "wine_df.head()"
   ]
  },
  {
   "cell_type": "markdown",
   "metadata": {},
   "source": [
    "**Описание алгоритма**"
   ]
  },
  {
   "cell_type": "markdown",
   "metadata": {},
   "source": [
    "Согласно описанию данных, всего в датасете находятся описания вин 3 сортов. Одним из методов решения задачи классификации является метод $k$ ближайших соседей.\n",
    "\n",
    "Разбив данные на обучающую и тестовую выборки, получим, для каждого элемента из тестовой будем смотреть, к какому классу будут принадлежать его ближайшие $k$ соседей из обучающей выборки. Среди этого набора классов выберем тот, который встречается чаще всего среди этих $k$\n",
    "\n",
    "Ближайшие соседи выбираются согласно некоторой метрике, которая является гиперпараметром модели. Приведём метрики, которые будут использованы, а также формулу для их вычисления по двум векторам из пространства $\\mathbb{R}^n$\n",
    "\n",
    "* Евклидово расстояние $\\rho(x, y) = \\sqrt{\\sum\\limits_{i = 1}^n (x_i - y_i)^2}$\n",
    "\n",
    "* Манхэттенское расстояние $\\rho(x, y) = \\sum\\limits_{i = 1}^n |x_i - y_i|$\n",
    "\n",
    "* Метрика Чебышёва $\\rho(x, y) = \\max\\limits_{i = 1}^n |x_i - y_i|$\n",
    "\n",
    "Ещё одним гиперпараметром является количество соседей, которое просматривается. Попробуем исследовать, как изменится качество модели, если варьировать гиперпараметры.\n",
    "\n",
    "Для оценки качества будем использовать метрику `accuracy`, которая равна доле правильных ответов на тестовой выборке. Конечной целью будет максимизация этой метрики.\n",
    "\n",
    "Более того, для применяемой модели очень важен порядок величины различных признаков. Если признаки не отнормировать, то вклад одинаковых в процентном соотношении отклонений величины параметров в расстояние между точками будет разным."
   ]
  },
  {
   "cell_type": "markdown",
   "metadata": {},
   "source": [
    "**Разделение и нормализация данных данных**"
   ]
  },
  {
   "cell_type": "code",
   "execution_count": 20,
   "metadata": {},
   "outputs": [],
   "source": [
    "# Исключение и сохраенние столбца с ответами, перевод в матричный вид\n",
    "data = wine_df.drop('Class', axis = 1).values\n",
    "labels = wine_df['Class'].values"
   ]
  },
  {
   "cell_type": "code",
   "execution_count": 21,
   "metadata": {},
   "outputs": [],
   "source": [
    "# Разбиение на обучающую и тестовую выборки\n",
    "train_data, test_data, train_labels, test_labels = model_selection.train_test_split(\n",
    "    data, \n",
    "    labels, \n",
    "    test_size = 0.3,\n",
    "    random_state = 1\n",
    ")\n",
    "\n",
    "# Отнормируем данные\n",
    "scaler = preprocessing.StandardScaler().fit(train_data)\n",
    "test_data = scaler.transform(test_data)\n",
    "train_data = scaler.transform(train_data)"
   ]
  },
  {
   "cell_type": "markdown",
   "metadata": {},
   "source": [
    "**Вычисление ошибок**"
   ]
  },
  {
   "cell_type": "code",
   "execution_count": 22,
   "metadata": {},
   "outputs": [],
   "source": [
    "r\"\"\"Вычисление метрики accuracy для kNN.\n",
    "\n",
    "    Обучает kNN-классификатор с заданными параметрами на заранее фиксированной\n",
    "    обучающей выборке. Предсказывает ответы для тестовой, считает долю верных.\n",
    "\n",
    "    Parameters\n",
    "    ----------\n",
    "    metric : string\n",
    "        Название метрики, по которой осуществляет поиск kNN.\n",
    "        Возможные варианты можно найти в документации sklearn\n",
    "    k : int\n",
    "        Количество рассматриваемых соседей в kNN.\n",
    "    \n",
    "    Returns\n",
    "    -------\n",
    "    Значение метрики accuracy при заданных параметрах\n",
    "    \"\"\"\n",
    "def get_knn_accuracy(k, metric):\n",
    "    classifier = neighbors.KNeighborsClassifier(n_neighbors = k, metric = metric)\n",
    "    classifier.fit(train_data, train_labels)\n",
    "    y_pred = classifier.predict(test_data)\n",
    "    return metrics.accuracy_score(test_labels, y_pred)\n",
    "\n",
    "def plot_errors_by_k(metric, color = 'red', need_summary = True):\n",
    "    r\"\"\"Построение зависимости доли правильных ответов от числа соседей.\n",
    "\n",
    "    Обучает kNN с различным количеством соседей (от 2х до размера тестовой выборки)\n",
    "    с использованием метрики `metric`, а затем строит график найденной зависимости.\n",
    "    При желании выводит оптимальные параметры, максимизирующие качество.\n",
    "\n",
    "    Parameters\n",
    "    ----------\n",
    "    metric : string\n",
    "        Название метрики, по которой осуществляет поиск kNN.\n",
    "        Возможные варианты можно найти в документации sklearn\n",
    "    color : int\n",
    "        Цвет, которым будет нарисован график.\n",
    "    need_summary : \n",
    "        Если установлено значение True, то будут выведены параметры,\n",
    "        при которых качество оптимально, а так же значение этого качества.\n",
    "        По умолчанию True.\n",
    "    \"\"\"\n",
    "    # Векторизация функции вычисления accuracy, чтобы она могла работать\n",
    "    # c аргументами типа numpy.ndarray\n",
    "    vectorized_accuracy_checker = \\\n",
    "        np.vectorize(lambda k: get_knn_accuracy(k, metric), signature = '()->()')\n",
    "    k_grid = range(2, train_labels.size)\n",
    "    res_accuracy = vectorized_accuracy_checker(k_grid)\n",
    "    \n",
    "    # Вычисление и вывод оптимальных параметров\n",
    "    if need_summary:\n",
    "        print('Maximum accuracy for {} metrics is {} reached with k = {}'.format(\n",
    "            metric,\n",
    "            np.max(res_accuracy),\n",
    "            k_grid[np.argmax(res_accuracy)]))\n",
    "    \n",
    "    # Отрисовка графика\n",
    "    plt.plot(k_grid, res_accuracy, color = color, label = metric, lw = 2)"
   ]
  },
  {
   "cell_type": "markdown",
   "metadata": {},
   "source": [
    "**Построение графиков**"
   ]
  },
  {
   "cell_type": "code",
   "execution_count": 23,
   "metadata": {},
   "outputs": [
    {
     "name": "stdout",
     "output_type": "stream",
     "text": [
      "Maximum accuracy for euclidean metrics is 0.9814814814814815 reached with k = 3\n",
      "Maximum accuracy for manhattan metrics is 0.9814814814814815 reached with k = 2\n",
      "Maximum accuracy for chebyshev metrics is 0.9629629629629629 reached with k = 8\n"
     ]
    },
    {
     "data": {
      "image/png": "[encoded data removed]",
      "text/plain": [
       "<Figure size 1080x720 with 1 Axes>"
      ]
     },
     "metadata": {
      "needs_background": "light"
     },
     "output_type": "display_data"
    }
   ],
   "source": [
    "plt.figure(figsize=(15, 10))\n",
    "plt.title('Зависимость качества от числа соседей')\n",
    "plt.xlabel('Число соседей')\n",
    "plt.ylabel('accuracy')\n",
    "\n",
    "plot_errors_by_k('euclidean')\n",
    "plot_errors_by_k('manhattan', color = 'blue')\n",
    "plot_errors_by_k('chebyshev', color = 'green')\n",
    "\n",
    "plt.legend()\n",
    "plt.savefig('fig.eps')\n",
    "plt.savefig('fig.png')\n",
    "plt.show()"
   ]
  },
  {
   "cell_type": "markdown",
   "metadata": {},
   "source": [
    "**Вывод**"
   ]
  },
  {
   "cell_type": "markdown",
   "metadata": {},
   "source": [
    "Построенные модели показывают, что в целом качество модели ведёт себя одинаково при увеличении количества рассматриваемых соседей. Оптимальные значения наблюдаются при $k \\leqslant 60$, затем качество начинает падать примерно линейно, и  начиная примерно с рассмотрения 100 соседей модель ведёт себя уже не лучше случайного предсказания (а точнее вырождается в константное предсказание наиболее объёмного класса)\n",
    "\n",
    "На начальных значениях стабильнее всего и лучше ведёт себя модель, использующая манхэттенское расстояние. Использование расстояния Чебышёва оказывается хуже, однако такая модель точнее предсказывает класс при большом количестве соседей.\n",
    "\n",
    "Видим, что лучшее значение качества достигается при использовании манхэттеновского расстояния при $k = 8$ и равно примерно $0.98$.\n",
    "\n",
    "Интересно, что такой же эксперимент, проведённый без нормализации данных, даёт точность предсказаний не выше $0.8$ на всех трёх рассмотренных метриках"
   ]
  }
 ],
 "metadata": {
  "kernelspec": {
   "display_name": "Python 3",
   "language": "python",
   "name": "python3"
  },
  "language_info": {
   "codemirror_mode": {
    "name": "ipython",
    "version": 3
   },
   "file_extension": ".py",
   "mimetype": "text/x-python",
   "name": "python",
   "nbconvert_exporter": "python",
   "pygments_lexer": "ipython3",
   "version": "3.7.1"
  }
 },
 "nbformat": 4,
 "nbformat_minor": 2
}
