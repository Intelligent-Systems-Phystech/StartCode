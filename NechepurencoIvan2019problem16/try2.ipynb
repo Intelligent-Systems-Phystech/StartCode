{
 "cells": [
  {
   "cell_type": "code",
   "execution_count": 1,
   "metadata": {},
   "outputs": [],
   "source": [
    "import matplotlib.pyplot as plt\n",
    "import numpy as np\n",
    "import pandas as pd\n",
    "from sklearn.model_selection import train_test_split"
   ]
  },
  {
   "cell_type": "markdown",
   "metadata": {},
   "source": [
    "### Задача 16\n",
    "\n",
    "По описанию условий посева предсказать прорастут семена растений или нет. Провести бинарную классификацию семян с помощью метода Парзеновского окна. Построить график зависимости ошибки на контроле от ширины окна. Подобрать оптимальную ширину окна."
   ]
  },
  {
   "cell_type": "code",
   "execution_count": 2,
   "metadata": {},
   "outputs": [],
   "source": [
    "columns = ['season',  'age', 'childish diseases', 'accident',  'surgical intervention', 'high fevers', \n",
    "'frequency of alcohol consumption', 'smoking habit', 'number of hours spent sitting per day', 'output']"
   ]
  },
  {
   "cell_type": "code",
   "execution_count": 3,
   "metadata": {},
   "outputs": [
    {
     "data": {
      "text/html": [
       "<div>\n",
       "<style scoped>\n",
       "    .dataframe tbody tr th:only-of-type {\n",
       "        vertical-align: middle;\n",
       "    }\n",
       "\n",
       "    .dataframe tbody tr th {\n",
       "        vertical-align: top;\n",
       "    }\n",
       "\n",
       "    .dataframe thead th {\n",
       "        text-align: right;\n",
       "    }\n",
       "</style>\n",
       "<table border=\"1\" class=\"dataframe\">\n",
       "  <thead>\n",
       "    <tr style=\"text-align: right;\">\n",
       "      <th></th>\n",
       "      <th>season</th>\n",
       "      <th>age</th>\n",
       "      <th>childish diseases</th>\n",
       "      <th>accident</th>\n",
       "      <th>surgical intervention</th>\n",
       "      <th>high fevers</th>\n",
       "      <th>frequency of alcohol consumption</th>\n",
       "      <th>smoking habit</th>\n",
       "      <th>number of hours spent sitting per day</th>\n",
       "      <th>output</th>\n",
       "    </tr>\n",
       "  </thead>\n",
       "  <tbody>\n",
       "    <tr>\n",
       "      <th>0</th>\n",
       "      <td>-0.33</td>\n",
       "      <td>0.69</td>\n",
       "      <td>0</td>\n",
       "      <td>1</td>\n",
       "      <td>1</td>\n",
       "      <td>0</td>\n",
       "      <td>0.8</td>\n",
       "      <td>0</td>\n",
       "      <td>0.88</td>\n",
       "      <td>True</td>\n",
       "    </tr>\n",
       "    <tr>\n",
       "      <th>1</th>\n",
       "      <td>-0.33</td>\n",
       "      <td>0.94</td>\n",
       "      <td>1</td>\n",
       "      <td>0</td>\n",
       "      <td>1</td>\n",
       "      <td>0</td>\n",
       "      <td>0.8</td>\n",
       "      <td>1</td>\n",
       "      <td>0.31</td>\n",
       "      <td>False</td>\n",
       "    </tr>\n",
       "    <tr>\n",
       "      <th>2</th>\n",
       "      <td>-0.33</td>\n",
       "      <td>0.50</td>\n",
       "      <td>1</td>\n",
       "      <td>0</td>\n",
       "      <td>0</td>\n",
       "      <td>0</td>\n",
       "      <td>1.0</td>\n",
       "      <td>-1</td>\n",
       "      <td>0.50</td>\n",
       "      <td>True</td>\n",
       "    </tr>\n",
       "    <tr>\n",
       "      <th>3</th>\n",
       "      <td>-0.33</td>\n",
       "      <td>0.75</td>\n",
       "      <td>0</td>\n",
       "      <td>1</td>\n",
       "      <td>1</td>\n",
       "      <td>0</td>\n",
       "      <td>1.0</td>\n",
       "      <td>-1</td>\n",
       "      <td>0.38</td>\n",
       "      <td>True</td>\n",
       "    </tr>\n",
       "    <tr>\n",
       "      <th>4</th>\n",
       "      <td>-0.33</td>\n",
       "      <td>0.67</td>\n",
       "      <td>1</td>\n",
       "      <td>1</td>\n",
       "      <td>0</td>\n",
       "      <td>0</td>\n",
       "      <td>0.8</td>\n",
       "      <td>-1</td>\n",
       "      <td>0.50</td>\n",
       "      <td>False</td>\n",
       "    </tr>\n",
       "  </tbody>\n",
       "</table>\n",
       "</div>"
      ],
      "text/plain": [
       "   season   age  childish diseases  accident  surgical intervention  \\\n",
       "0   -0.33  0.69                  0         1                      1   \n",
       "1   -0.33  0.94                  1         0                      1   \n",
       "2   -0.33  0.50                  1         0                      0   \n",
       "3   -0.33  0.75                  0         1                      1   \n",
       "4   -0.33  0.67                  1         1                      0   \n",
       "\n",
       "   high fevers  frequency of alcohol consumption  smoking habit  \\\n",
       "0            0                               0.8              0   \n",
       "1            0                               0.8              1   \n",
       "2            0                               1.0             -1   \n",
       "3            0                               1.0             -1   \n",
       "4            0                               0.8             -1   \n",
       "\n",
       "   number of hours spent sitting per day  output  \n",
       "0                                   0.88    True  \n",
       "1                                   0.31   False  \n",
       "2                                   0.50    True  \n",
       "3                                   0.38    True  \n",
       "4                                   0.50   False  "
      ]
     },
     "execution_count": 3,
     "metadata": {},
     "output_type": "execute_result"
    }
   ],
   "source": [
    "df = pd.read_csv('fertility_Diagnosis.txt', names = columns)\n",
    "df['output'] = df['output'] == 'N'\n",
    "df.head()"
   ]
  },
  {
   "cell_type": "code",
   "execution_count": 4,
   "metadata": {},
   "outputs": [
    {
     "data": {
      "text/plain": [
       "100"
      ]
     },
     "execution_count": 4,
     "metadata": {},
     "output_type": "execute_result"
    }
   ],
   "source": [
    "len(df)"
   ]
  },
  {
   "cell_type": "code",
   "execution_count": 5,
   "metadata": {},
   "outputs": [
    {
     "data": {
      "text/plain": [
       "88"
      ]
     },
     "execution_count": 5,
     "metadata": {},
     "output_type": "execute_result"
    }
   ],
   "source": [
    "np.sum(df['output'])"
   ]
  },
  {
   "cell_type": "code",
   "execution_count": 6,
   "metadata": {},
   "outputs": [
    {
     "data": {
      "text/plain": [
       "season                                  -0.050069\n",
       "age                                     -0.004566\n",
       "childish diseases                        0.004444\n",
       "accident                                 0.023030\n",
       "surgical intervention                   -0.008889\n",
       "high fevers                              0.023030\n",
       "frequency of alcohol consumption         0.007919\n",
       "smoking habit                           -0.012121\n",
       "number of hours spent sitting per day   -0.001398\n",
       "output                                   0.106667\n",
       "Name: output, dtype: float64"
      ]
     },
     "execution_count": 6,
     "metadata": {},
     "output_type": "execute_result"
    }
   ],
   "source": [
    "df.astype(float).cov()['output']"
   ]
  },
  {
   "cell_type": "code",
   "execution_count": 127,
   "metadata": {},
   "outputs": [],
   "source": [
    "df = df[['season', 'accident', 'high fevers', 'smoking habit', 'output']]"
   ]
  },
  {
   "cell_type": "markdown",
   "metadata": {},
   "source": [
    "С самого начала мочется объединить признаки 'Season' и 'age', создав один временной ряд, но это будет не совсем корректно: в первом случае имеем периодическое явление, а во втором графа \"год\" соответствует скорее категориальному признаку: был ли тот или иной год благоприятным для растений, скорее, независимая случайная величина. Но откажемся и от перехода к категриальным признакам: это слишком сильно повысит размерность нашего простанства."
   ]
  },
  {
   "cell_type": "code",
   "execution_count": 7,
   "metadata": {},
   "outputs": [],
   "source": [
    "X = df.drop('output', axis = 1)\n",
    "y = df['output']\n",
    "X_train, X_test, y_train, y_test = train_test_split(X, y, test_size=0.35, random_state=42)"
   ]
  },
  {
   "cell_type": "code",
   "execution_count": 8,
   "metadata": {},
   "outputs": [],
   "source": [
    "epan = lambda r : 3 / 4 * (1 - r ** 2) * (np.abs(r) <= 1)\n",
    "square = lambda r : 15 / 16 * (1 - r ** 2) ** 2 * [np.abs(r) <= 1]\n",
    "triangle = lambda r :  (1 - np.abs(r)) * [np.abs(r) <= 1]\n",
    "gaussean = lambda r : (2 * np.pi) ** (-1 / 2) * np.exp(-1 / 2 * r ** 2)\n",
    "rectangular = lambda r : 0.5 * (np.abs(r) <= 1)\n",
    "kernels = [epan, square, triangle, gaussean, rectangular]\n",
    "kernel_names = ['epan', 'square', 'triangle', 'gaussean', 'rectangular']"
   ]
  },
  {
   "cell_type": "code",
   "execution_count": 9,
   "metadata": {},
   "outputs": [],
   "source": [
    "h =  5\n",
    "dist_l2 = lambda x, x1 : (np.linalg.norm(x - x1)) ** 2\n",
    "\n",
    "def get_dencity(members, x, h=2, K=epan):\n",
    "    dists = np.array([dist_l2(u, x) for u in members.values])\n",
    "    return np.sum(K(dists / h))\n",
    "\n",
    "def predict_single(x, h=2, K=epan):\n",
    "    subclasses = [X_train[y_train], X_train[~y_train]]\n",
    "    dencity = np.array([get_dencity(members, x, h, K) for members in subclasses])\n",
    "    dencity /= np.sum(dencity) # На самом деле, эта строчка не имеет никакого алгоритмического смысла       \n",
    "    return dencity[0] >= dencity[1]\n",
    "\n",
    "def predict(values, h=2, K=epan):\n",
    "    return np.array([predict_single(x, h, K) for x in values])"
   ]
  },
  {
   "cell_type": "code",
   "execution_count": 10,
   "metadata": {},
   "outputs": [
    {
     "data": {
      "text/plain": [
       "0.8857142857142857"
      ]
     },
     "execution_count": 10,
     "metadata": {},
     "output_type": "execute_result"
    }
   ],
   "source": [
    "predicted = predict(X_test.values, 3)\n",
    "accuracy = np.sum(predicted == y_test) / len(y_test)\n",
    "accuracy "
   ]
  },
  {
   "cell_type": "code",
   "execution_count": 13,
   "metadata": {},
   "outputs": [
    {
     "name": "stdout",
     "output_type": "stream",
     "text": [
      "[1. 1. 1. 1. 1. 1. 1. 1. 1. 1. 1. 1. 1. 1. 1. 1. 1. 1. 1. 1. 1. 1. 1. 1.\n",
      " 1. 1. 1. 1. 1. 1. 1. 1. 1. 1. 1.]\n",
      "[True, True, False, True, True, True, True, True, True, True, True, True, True, True, True, False, True, True, True, True, True, True, False, True, True, True, True, True, True, True, True, True, True, True, False]\n"
     ]
    }
   ],
   "source": [
    "print(prediction)\n",
    "print(list(y_test))"
   ]
  },
  {
   "cell_type": "markdown",
   "metadata": {},
   "source": [
    "Что же, видим очевидную проблему: за счет того, что значений false в выборке весьма мало,\n",
    "у нас ответы практически всегда - только true. Посмотрим, что можно с этим зделать."
   ]
  },
  {
   "cell_type": "code",
   "execution_count": 14,
   "metadata": {},
   "outputs": [
    {
     "data": {
      "image/png": "[encoded data removed]",
      "text/plain": [
       "<Figure size 432x288 with 1 Axes>"
      ]
     },
     "metadata": {},
     "output_type": "display_data"
    },
    {
     "data": {
      "image/png": "[encoded data removed]",
      "text/plain": [
       "<Figure size 432x288 with 1 Axes>"
      ]
     },
     "metadata": {},
     "output_type": "display_data"
    },
    {
     "data": {
      "image/png": "[encoded data removed]",
      "text/plain": [
       "<Figure size 432x288 with 1 Axes>"
      ]
     },
     "metadata": {},
     "output_type": "display_data"
    },
    {
     "data": {
      "image/png": "[encoded data removed]",
      "text/plain": [
       "<Figure size 432x288 with 1 Axes>"
      ]
     },
     "metadata": {},
     "output_type": "display_data"
    },
    {
     "data": {
      "image/png": "[encoded data removed]",
      "text/plain": [
       "<Figure size 432x288 with 1 Axes>"
      ]
     },
     "metadata": {},
     "output_type": "display_data"
    }
   ],
   "source": [
    "h_es = np.linspace(0.1, 20, 10)\n",
    "\n",
    "for kernel, name in zip(kernels, kernel_names):\n",
    "    accuracies = []\n",
    "    for h in h_es:\n",
    "        prediction = predict(X_test.values, h, K=kernel)\n",
    "        loss = np.sum(prediction == y_test) / len(y_test)\n",
    "        accuracies.append(accuracy)\n",
    "    plt.title(name)\n",
    "    plt.plot(h_es, accuracies)\n",
    "    plt.show()"
   ]
  },
  {
   "cell_type": "markdown",
   "metadata": {},
   "source": [
    "Видим, что длина окна практически никак нас не спасает: нужно, во-первых, прожумывать метрику растояний между различными элементами выборки, во-вторых, увеличивать саму выборку, потому что умерших растений просто недостаточно. Ну, или искать багу)"
   ]
  },
  {
   "cell_type": "code",
   "execution_count": null,
   "metadata": {},
   "outputs": [],
   "source": []
  },
  {
   "cell_type": "code",
   "execution_count": 66,
   "metadata": {},
   "outputs": [],
   "source": [
    "from scipy.spatial import distance_matrix\n",
    "dists = distance_matrix(X_train, X_test, p=2)\n",
    "len(X_train), len(X_test), dists.shape"
   ]
  },
  {
   "cell_type": "code",
   "execution_count": 73,
   "metadata": {},
   "outputs": [],
   "source": [
    "distspos = dists[y_train]\n",
    "distsneg = dists[~y_train]"
   ]
  },
  {
   "cell_type": "code",
   "execution_count": 84,
   "metadata": {},
   "outputs": [],
   "source": [
    "h = 3\n",
    "pos = np.sum(epan(pd.DataFrame(distspos) / h), axis = 0)\n",
    "neg = np.sum(epan(pd.DataFrame(distsneg) / h), axis = 0)"
   ]
  },
  {
   "cell_type": "code",
   "execution_count": 91,
   "metadata": {},
   "outputs": [
    {
     "data": {
      "text/plain": [
       "83    27.091067\n",
       "53    23.283250\n",
       "70   -22.227325\n",
       "45    25.909058\n",
       "44    24.535367\n",
       "39    27.965267\n",
       "22    24.030467\n",
       "80    26.909150\n",
       "10    17.491483\n",
       "0     26.632017\n",
       "18    15.508817\n",
       "30    25.018083\n",
       "73    25.020250\n",
       "33    24.699300\n",
       "90    27.460717\n",
       "4    -30.529850\n",
       "76    25.578825\n",
       "77    23.919642\n",
       "12    15.642150\n",
       "31    25.208483\n",
       "55    22.595183\n",
       "88    30.218367\n",
       "26   -25.161667\n",
       "42    13.029758\n",
       "69    24.107142\n",
       "15    15.235283\n",
       "40    18.196525\n",
       "96    28.939158\n",
       "9     25.114350\n",
       "72    22.949808\n",
       "11    23.969158\n",
       "47    21.009083\n",
       "85    20.970942\n",
       "28    21.663275\n",
       "93   -30.957950\n",
       "Name: output, dtype: float64"
      ]
     },
     "execution_count": 91,
     "metadata": {},
     "output_type": "execute_result"
    }
   ],
   "source": [
    "list(pos + neg) * (y_test - 0.5) * 2"
   ]
  },
  {
   "cell_type": "code",
   "execution_count": 108,
   "metadata": {},
   "outputs": [
    {
     "data": {
      "text/plain": [
       "season                                  -0.135227\n",
       "age                                      0.663864\n",
       "childish diseases                        0.875000\n",
       "accident                                 0.465909\n",
       "surgical intervention                    0.500000\n",
       "high fevers                              0.215909\n",
       "frequency of alcohol consumption         0.840909\n",
       "smoking habit                           -0.363636\n",
       "number of hours spent sitting per day    0.405227\n",
       "output                                   1.000000\n",
       "dtype: float64"
      ]
     },
     "execution_count": 108,
     "metadata": {},
     "output_type": "execute_result"
    }
   ],
   "source": [
    "df[df['output']].mean()"
   ]
  },
  {
   "cell_type": "code",
   "execution_count": 109,
   "metadata": {},
   "outputs": [
    {
     "data": {
      "text/plain": [
       "season                                   0.334167\n",
       "age                                      0.706667\n",
       "childish diseases                        0.833333\n",
       "accident                                 0.250000\n",
       "surgical intervention                    0.583333\n",
       "high fevers                              0.000000\n",
       "frequency of alcohol consumption         0.766667\n",
       "smoking habit                           -0.250000\n",
       "number of hours spent sitting per day    0.418333\n",
       "output                                   0.000000\n",
       "dtype: float64"
      ]
     },
     "execution_count": 109,
     "metadata": {},
     "output_type": "execute_result"
    }
   ],
   "source": [
    "df[~df['output']].mean()"
   ]
  },
  {
   "cell_type": "code",
   "execution_count": null,
   "metadata": {},
   "outputs": [],
   "source": []
  }
 ],
 "metadata": {
  "kernelspec": {
   "display_name": "Python 3",
   "language": "python",
   "name": "python3"
  },
  "language_info": {
   "codemirror_mode": {
    "name": "ipython",
    "version": 3
   },
   "file_extension": ".py",
   "mimetype": "text/x-python",
   "name": "python",
   "nbconvert_exporter": "python",
   "pygments_lexer": "ipython3",
   "version": "3.6.5"
  }
 },
 "nbformat": 4,
 "nbformat_minor": 2
}
