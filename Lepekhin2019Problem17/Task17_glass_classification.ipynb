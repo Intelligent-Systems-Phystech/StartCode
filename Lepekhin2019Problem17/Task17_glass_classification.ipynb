{
 "cells": [
  {
   "cell_type": "markdown",
   "metadata": {},
   "source": [
    "# Идентификация видов стекла."
   ]
  },
  {
   "cell_type": "markdown",
   "metadata": {},
   "source": [
    "###  Постановка задачи.\n",
    "\n",
    "Выборка состоит из 9 признаков - химических параметров образцов и 214 объектов. Необходимо каждому образцу сопоставить один из 6 классов (например: стекло автомобиля, осколок посуды, окно здания).\n",
    "\n",
    "**Метрика качества** - доля правильных ответов классификатора (`accuracy`). \n",
    "\n",
    "**Цель**\n",
    "\n",
    "1.$ $ Решить задачу с использованием следующих методов:\n",
    "\n",
    "1) Алгоритм k ближайших соседей,\n",
    "\n",
    "2) Алгоритм решающего дерева\n",
    "\n",
    "и сравнить качество их работы. \n",
    "\n",
    "2.$ $ Отмасштабировать признаки и проверить, даст ли такая процедура увеличение значения `accuracy`.\n",
    "\n",
    "3.$ $ Выбрать наиболее точный из алгоритмов и исследовать зависимость `accuracy`, достигаемое этим алгоритмом на разных количествах признаков."
   ]
  },
  {
   "cell_type": "code",
   "execution_count": 2,
   "metadata": {},
   "outputs": [],
   "source": [
    "# подключение используемых библиотек\n",
    "import numpy as np\n",
    "import pandas as pd\n",
    "import scipy.stats as sps\n",
    "import matplotlib.pyplot as plt\n",
    "%matplotlib inline\n",
    "\n",
    "# используемые модели\n",
    "from sklearn.neighbors import KNeighborsClassifier\n",
    "from sklearn.tree import DecisionTreeClassifier\n",
    "\n",
    "# вспомогательные функции\n",
    "from sklearn.metrics import accuracy_score\n",
    "from sklearn.model_selection import train_test_split\n",
    "from sklearn import preprocessing\n",
    "\n",
    "# необходимые параметры для графиков\n",
    "plt.rcParams['font.family'] = 'serif'\n",
    "plt.rcParams['font.serif'] = 'FreeSerif'\n",
    "plt.rcParams['lines.linewidth'] = 2\n",
    "plt.rcParams['lines.markersize'] = 12\n",
    "plt.rcParams['xtick.labelsize'] = 24\n",
    "plt.rcParams['ytick.labelsize'] = 24\n",
    "plt.rcParams['legend.fontsize'] = 24\n",
    "plt.rcParams['axes.titlesize'] = 36\n",
    "plt.rcParams['axes.labelsize'] = 24"
   ]
  },
  {
   "cell_type": "code",
   "execution_count": 3,
   "metadata": {},
   "outputs": [],
   "source": [
    "data = pd.read_csv('glass.data', header=None).sample(frac=1, random_state=77)[np.arange(1, 11)]"
   ]
  },
  {
   "cell_type": "code",
   "execution_count": 4,
   "metadata": {},
   "outputs": [
    {
     "data": {
      "text/html": [
       "<div>\n",
       "<style scoped>\n",
       "    .dataframe tbody tr th:only-of-type {\n",
       "        vertical-align: middle;\n",
       "    }\n",
       "\n",
       "    .dataframe tbody tr th {\n",
       "        vertical-align: top;\n",
       "    }\n",
       "\n",
       "    .dataframe thead th {\n",
       "        text-align: right;\n",
       "    }\n",
       "</style>\n",
       "<table border=\"1\" class=\"dataframe\">\n",
       "  <thead>\n",
       "    <tr style=\"text-align: right;\">\n",
       "      <th></th>\n",
       "      <th>1</th>\n",
       "      <th>2</th>\n",
       "      <th>3</th>\n",
       "      <th>4</th>\n",
       "      <th>5</th>\n",
       "      <th>6</th>\n",
       "      <th>7</th>\n",
       "      <th>8</th>\n",
       "      <th>9</th>\n",
       "      <th>10</th>\n",
       "    </tr>\n",
       "  </thead>\n",
       "  <tbody>\n",
       "    <tr>\n",
       "      <th>20</th>\n",
       "      <td>1.51750</td>\n",
       "      <td>12.82</td>\n",
       "      <td>3.55</td>\n",
       "      <td>1.49</td>\n",
       "      <td>72.75</td>\n",
       "      <td>0.54</td>\n",
       "      <td>8.52</td>\n",
       "      <td>0.0</td>\n",
       "      <td>0.19</td>\n",
       "      <td>1</td>\n",
       "    </tr>\n",
       "    <tr>\n",
       "      <th>178</th>\n",
       "      <td>1.51829</td>\n",
       "      <td>14.46</td>\n",
       "      <td>2.24</td>\n",
       "      <td>1.62</td>\n",
       "      <td>72.38</td>\n",
       "      <td>0.00</td>\n",
       "      <td>9.26</td>\n",
       "      <td>0.0</td>\n",
       "      <td>0.00</td>\n",
       "      <td>6</td>\n",
       "    </tr>\n",
       "    <tr>\n",
       "      <th>17</th>\n",
       "      <td>1.52196</td>\n",
       "      <td>14.36</td>\n",
       "      <td>3.85</td>\n",
       "      <td>0.89</td>\n",
       "      <td>71.36</td>\n",
       "      <td>0.15</td>\n",
       "      <td>9.15</td>\n",
       "      <td>0.0</td>\n",
       "      <td>0.00</td>\n",
       "      <td>1</td>\n",
       "    </tr>\n",
       "    <tr>\n",
       "      <th>16</th>\n",
       "      <td>1.51784</td>\n",
       "      <td>12.68</td>\n",
       "      <td>3.67</td>\n",
       "      <td>1.16</td>\n",
       "      <td>73.11</td>\n",
       "      <td>0.61</td>\n",
       "      <td>8.70</td>\n",
       "      <td>0.0</td>\n",
       "      <td>0.00</td>\n",
       "      <td>1</td>\n",
       "    </tr>\n",
       "    <tr>\n",
       "      <th>58</th>\n",
       "      <td>1.51754</td>\n",
       "      <td>13.48</td>\n",
       "      <td>3.74</td>\n",
       "      <td>1.17</td>\n",
       "      <td>72.99</td>\n",
       "      <td>0.59</td>\n",
       "      <td>8.03</td>\n",
       "      <td>0.0</td>\n",
       "      <td>0.00</td>\n",
       "      <td>1</td>\n",
       "    </tr>\n",
       "  </tbody>\n",
       "</table>\n",
       "</div>"
      ],
      "text/plain": [
       "          1      2     3     4      5     6     7    8     9   10\n",
       "20   1.51750  12.82  3.55  1.49  72.75  0.54  8.52  0.0  0.19   1\n",
       "178  1.51829  14.46  2.24  1.62  72.38  0.00  9.26  0.0  0.00   6\n",
       "17   1.52196  14.36  3.85  0.89  71.36  0.15  9.15  0.0  0.00   1\n",
       "16   1.51784  12.68  3.67  1.16  73.11  0.61  8.70  0.0  0.00   1\n",
       "58   1.51754  13.48  3.74  1.17  72.99  0.59  8.03  0.0  0.00   1"
      ]
     },
     "execution_count": 4,
     "metadata": {},
     "output_type": "execute_result"
    }
   ],
   "source": [
    "data.head()"
   ]
  },
  {
   "cell_type": "code",
   "execution_count": 5,
   "metadata": {},
   "outputs": [
    {
     "data": {
      "text/html": [
       "<div>\n",
       "<style scoped>\n",
       "    .dataframe tbody tr th:only-of-type {\n",
       "        vertical-align: middle;\n",
       "    }\n",
       "\n",
       "    .dataframe tbody tr th {\n",
       "        vertical-align: top;\n",
       "    }\n",
       "\n",
       "    .dataframe thead th {\n",
       "        text-align: right;\n",
       "    }\n",
       "</style>\n",
       "<table border=\"1\" class=\"dataframe\">\n",
       "  <thead>\n",
       "    <tr style=\"text-align: right;\">\n",
       "      <th></th>\n",
       "      <th>1</th>\n",
       "      <th>2</th>\n",
       "      <th>3</th>\n",
       "      <th>4</th>\n",
       "      <th>5</th>\n",
       "      <th>6</th>\n",
       "      <th>7</th>\n",
       "      <th>8</th>\n",
       "      <th>9</th>\n",
       "    </tr>\n",
       "  </thead>\n",
       "  <tbody>\n",
       "    <tr>\n",
       "      <th>190</th>\n",
       "      <td>1.51613</td>\n",
       "      <td>13.88</td>\n",
       "      <td>1.78</td>\n",
       "      <td>1.79</td>\n",
       "      <td>73.10</td>\n",
       "      <td>0.00</td>\n",
       "      <td>8.67</td>\n",
       "      <td>0.76</td>\n",
       "      <td>0.00</td>\n",
       "    </tr>\n",
       "    <tr>\n",
       "      <th>158</th>\n",
       "      <td>1.51776</td>\n",
       "      <td>13.53</td>\n",
       "      <td>3.41</td>\n",
       "      <td>1.52</td>\n",
       "      <td>72.04</td>\n",
       "      <td>0.58</td>\n",
       "      <td>8.79</td>\n",
       "      <td>0.00</td>\n",
       "      <td>0.00</td>\n",
       "    </tr>\n",
       "    <tr>\n",
       "      <th>89</th>\n",
       "      <td>1.51640</td>\n",
       "      <td>12.55</td>\n",
       "      <td>3.48</td>\n",
       "      <td>1.87</td>\n",
       "      <td>73.23</td>\n",
       "      <td>0.63</td>\n",
       "      <td>8.08</td>\n",
       "      <td>0.00</td>\n",
       "      <td>0.09</td>\n",
       "    </tr>\n",
       "    <tr>\n",
       "      <th>192</th>\n",
       "      <td>1.51623</td>\n",
       "      <td>14.20</td>\n",
       "      <td>0.00</td>\n",
       "      <td>2.79</td>\n",
       "      <td>73.46</td>\n",
       "      <td>0.04</td>\n",
       "      <td>9.04</td>\n",
       "      <td>0.40</td>\n",
       "      <td>0.09</td>\n",
       "    </tr>\n",
       "    <tr>\n",
       "      <th>177</th>\n",
       "      <td>1.51937</td>\n",
       "      <td>13.79</td>\n",
       "      <td>2.41</td>\n",
       "      <td>1.19</td>\n",
       "      <td>72.76</td>\n",
       "      <td>0.00</td>\n",
       "      <td>9.77</td>\n",
       "      <td>0.00</td>\n",
       "      <td>0.00</td>\n",
       "    </tr>\n",
       "  </tbody>\n",
       "</table>\n",
       "</div>"
      ],
      "text/plain": [
       "           1      2     3     4      5     6     7     8     9\n",
       "190  1.51613  13.88  1.78  1.79  73.10  0.00  8.67  0.76  0.00\n",
       "158  1.51776  13.53  3.41  1.52  72.04  0.58  8.79  0.00  0.00\n",
       "89   1.51640  12.55  3.48  1.87  73.23  0.63  8.08  0.00  0.09\n",
       "192  1.51623  14.20  0.00  2.79  73.46  0.04  9.04  0.40  0.09\n",
       "177  1.51937  13.79  2.41  1.19  72.76  0.00  9.77  0.00  0.00"
      ]
     },
     "execution_count": 5,
     "metadata": {},
     "output_type": "execute_result"
    }
   ],
   "source": [
    "X = data[np.arange(1, 10)]\n",
    "y = data[10]\n",
    "\n",
    "# разделим исходные данные на train и на test\n",
    "X_train, X_test, y_train, y_test = train_test_split(\n",
    "    X, \n",
    "    y, \n",
    "    test_size=0.3, \n",
    "    random_state=42\n",
    ")\n",
    "\n",
    "X_train.head()"
   ]
  },
  {
   "cell_type": "markdown",
   "metadata": {},
   "source": [
    "**Классификация с использованием метода k ближайших соседей.**"
   ]
  },
  {
   "cell_type": "code",
   "execution_count": 6,
   "metadata": {},
   "outputs": [
    {
     "name": "stdout",
     "output_type": "stream",
     "text": [
      "0.6461538461538462\n"
     ]
    }
   ],
   "source": [
    "knn_classifier = KNeighborsClassifier(n_neighbors=3)\n",
    "knn_classifier.fit(X_train, y_train)\n",
    "predictions_knn = knn_classifier.predict(X_test)\n",
    "print(accuracy_score(predictions_knn, y_test))"
   ]
  },
  {
   "cell_type": "markdown",
   "metadata": {},
   "source": [
    "**Классификация с использованием решающего дерева.**"
   ]
  },
  {
   "cell_type": "code",
   "execution_count": 7,
   "metadata": {},
   "outputs": [
    {
     "name": "stdout",
     "output_type": "stream",
     "text": [
      "0.6615384615384615\n"
     ]
    }
   ],
   "source": [
    "rf_classifier = DecisionTreeClassifier(random_state=42, max_depth=10)\n",
    "rf_classifier.fit(X_train, y_train)\n",
    "predictions_rf = rf_classifier.predict(X_test)\n",
    "print(accuracy_score(predictions_rf, y_test))"
   ]
  },
  {
   "cell_type": "markdown",
   "metadata": {},
   "source": [
    "### Масштабирование признаков."
   ]
  },
  {
   "cell_type": "code",
   "execution_count": 8,
   "metadata": {},
   "outputs": [],
   "source": [
    "X_scaled_train = (X_train - np.mean(X_train)) / np.std(X_train)\n",
    "X_scaled_test = (X_test - np.mean(X_train)) / np.std(X_train)"
   ]
  },
  {
   "cell_type": "code",
   "execution_count": 9,
   "metadata": {},
   "outputs": [
    {
     "name": "stdout",
     "output_type": "stream",
     "text": [
      "0.676923076923077\n"
     ]
    }
   ],
   "source": [
    "knn_classifier.fit(X_scaled_train, y_train)\n",
    "predictions = knn_classifier.predict(X_scaled_test)\n",
    "print(accuracy_score(predictions, y_test))"
   ]
  },
  {
   "cell_type": "code",
   "execution_count": 10,
   "metadata": {},
   "outputs": [
    {
     "name": "stdout",
     "output_type": "stream",
     "text": [
      "0.6615384615384615\n"
     ]
    }
   ],
   "source": [
    "rf_classifier.fit(X_scaled_train, y_train)\n",
    "predictions_rf = rf_classifier.predict(X_scaled_test)\n",
    "print(accuracy_score(predictions_rf, y_test))"
   ]
  },
  {
   "cell_type": "markdown",
   "metadata": {},
   "source": [
    "**Вывод.**\n",
    "\n",
    "После масштабирования признаков точность метода k ближайших соседей повысилась, а метода решающих деревьев - осталась такой же, как и до масштабирования."
   ]
  },
  {
   "cell_type": "markdown",
   "metadata": {},
   "source": [
    "### Отбор признаков."
   ]
  },
  {
   "cell_type": "markdown",
   "metadata": {},
   "source": [
    "Отбор признаков будем производить жадным образом. А именно, будем на каждом шаге из недобавленных признаков выбирать такой, что его добавление максимизирует метрику качества на тесте."
   ]
  },
  {
   "cell_type": "code",
   "execution_count": 11,
   "metadata": {},
   "outputs": [
    {
     "data": {
      "text/html": [
       "<div>\n",
       "<style scoped>\n",
       "    .dataframe tbody tr th:only-of-type {\n",
       "        vertical-align: middle;\n",
       "    }\n",
       "\n",
       "    .dataframe tbody tr th {\n",
       "        vertical-align: top;\n",
       "    }\n",
       "\n",
       "    .dataframe thead th {\n",
       "        text-align: right;\n",
       "    }\n",
       "</style>\n",
       "<table border=\"1\" class=\"dataframe\">\n",
       "  <thead>\n",
       "    <tr style=\"text-align: right;\">\n",
       "      <th></th>\n",
       "      <th>1</th>\n",
       "    </tr>\n",
       "  </thead>\n",
       "  <tbody>\n",
       "    <tr>\n",
       "      <th>190</th>\n",
       "      <td>1.51613</td>\n",
       "    </tr>\n",
       "    <tr>\n",
       "      <th>158</th>\n",
       "      <td>1.51776</td>\n",
       "    </tr>\n",
       "    <tr>\n",
       "      <th>89</th>\n",
       "      <td>1.51640</td>\n",
       "    </tr>\n",
       "    <tr>\n",
       "      <th>192</th>\n",
       "      <td>1.51623</td>\n",
       "    </tr>\n",
       "    <tr>\n",
       "      <th>177</th>\n",
       "      <td>1.51937</td>\n",
       "    </tr>\n",
       "  </tbody>\n",
       "</table>\n",
       "</div>"
      ],
      "text/plain": [
       "           1\n",
       "190  1.51613\n",
       "158  1.51776\n",
       "89   1.51640\n",
       "192  1.51623\n",
       "177  1.51937"
      ]
     },
     "execution_count": 11,
     "metadata": {},
     "output_type": "execute_result"
    }
   ],
   "source": [
    "X_train[[1]].head()"
   ]
  },
  {
   "cell_type": "code",
   "execution_count": 12,
   "metadata": {},
   "outputs": [
    {
     "name": "stdout",
     "output_type": "stream",
     "text": [
      "набор признаков:  [4]\n",
      "test accuracy:  0.6 train accuracy:  0.6510067114093959\n",
      "набор признаков:  [4, 1]\n",
      "test accuracy:  0.7076923076923077 train accuracy:  0.7986577181208053\n",
      "набор признаков:  [4, 1, 5]\n",
      "test accuracy:  0.7076923076923077 train accuracy:  0.8120805369127517\n",
      "набор признаков:  [4, 1, 5, 8]\n",
      "test accuracy:  0.7384615384615385 train accuracy:  0.8523489932885906\n",
      "набор признаков:  [4, 1, 5, 8, 6]\n",
      "test accuracy:  0.7384615384615385 train accuracy:  0.8389261744966443\n",
      "набор признаков:  [4, 1, 5, 8, 6, 7]\n",
      "test accuracy:  0.7538461538461538 train accuracy:  0.8389261744966443\n",
      "набор признаков:  [4, 1, 5, 8, 6, 7, 2]\n",
      "test accuracy:  0.7538461538461538 train accuracy:  0.8187919463087249\n",
      "набор признаков:  [4, 1, 5, 8, 6, 7, 2, 3]\n",
      "test accuracy:  0.7384615384615385 train accuracy:  0.8120805369127517\n",
      "набор признаков:  [4, 1, 5, 8, 6, 7, 2, 3, 9]\n",
      "test accuracy:  0.676923076923077 train accuracy:  0.825503355704698\n"
     ]
    }
   ],
   "source": [
    "# набор признаков, используемых в модели\n",
    "rows_set = []\n",
    "# значения accuracy на обучении и тесте при разных количествах признаков\n",
    "accuracy_train = []\n",
    "accuracy_test = []\n",
    "# значения дисперсий accuracy при разных количествах признаков\n",
    "var_train = []\n",
    "var_test = []\n",
    "\n",
    "# подсчёт значения accuracy на произвольном dataset-е\n",
    "def get_accuracy(dataset_X, dataset_y):\n",
    "    knn_classifier.fit(X_scaled_train[rows_set], y_train)\n",
    "    cur_predict = knn_classifier.predict(dataset_X)\n",
    "    return accuracy_score(cur_predict, dataset_y)  \n",
    "\n",
    "# подсчёт значения accuracy на обучении\n",
    "def get_train_accuracy():\n",
    "    return get_accuracy(X_scaled_train[rows_set], y_train)    \n",
    "\n",
    "# подсчёт значения accuracy на тесте\n",
    "def get_test_accuracy():\n",
    "    return get_accuracy(X_scaled_test[rows_set], y_test)    \n",
    "\n",
    "# подсчёт дисперсии  по методу бутстрепа\n",
    "def get_variance(dataset_X, dataset_y):\n",
    "    n = len(dataset_y)\n",
    "    B = int(n**(12.0/10))\n",
    "    sample_accuracy = []\n",
    "    \n",
    "    for sample_id in range(B):\n",
    "        item_ids = sps.randint(low=0, high=n).rvs(n)\n",
    "        sample_accuracy.append(get_accuracy(dataset_X[rows_set].values[item_ids,],\n",
    "                                            dataset_y.values[item_ids,]))\n",
    "    return np.var(sample_accuracy)\n",
    "    \n",
    "# перебираем число признаков, которые будут использованы в предсказании\n",
    "for feature_cnt in range(1, 10):\n",
    "    best_to_add = -1\n",
    "    best_accuracy = 0.0\n",
    "    # перебираем номер признака, который будет добавлен\n",
    "    for feature_id in range(1, 10):\n",
    "        if feature_id not in rows_set:\n",
    "            rows_set.append(feature_id)\n",
    "            cur_accuracy = get_test_accuracy()\n",
    "            rows_set.remove(feature_id)\n",
    "            if (cur_accuracy > best_accuracy) or (best_to_add == -1):\n",
    "                best_to_add = feature_id\n",
    "                best_accuracy = cur_accuracy\n",
    "                \n",
    "    rows_set.append(best_to_add)\n",
    "    accuracy_test.append(best_accuracy)\n",
    "    accuracy_train.append(get_train_accuracy())\n",
    "    var_train.append(get_variance(X_scaled_train, y_train))\n",
    "    var_test.append(get_variance(X_scaled_test, y_test))\n",
    "    \n",
    "    print(\"набор признаков: \", rows_set)\n",
    "    print(\"test accuracy: \", best_accuracy, \n",
    "          \"train accuracy: \", get_train_accuracy())"
   ]
  },
  {
   "cell_type": "code",
   "execution_count": 13,
   "metadata": {},
   "outputs": [],
   "source": [
    "accuracy_test = np.array(accuracy_test)\n",
    "accuracy_train = np.array(accuracy_train)\n",
    "var_test = np.array(var_test)\n",
    "var_train = np.array(var_train)"
   ]
  },
  {
   "cell_type": "markdown",
   "metadata": {},
   "source": [
    "### Построение графиков"
   ]
  },
  {
   "cell_type": "code",
   "execution_count": 18,
   "metadata": {},
   "outputs": [
    {
     "data": {
      "image/png": "[encoded data removed]",
      "text/plain": [
       "<matplotlib.figure.Figure at 0x7f85e0dd09b0>"
      ]
     },
     "metadata": {},
     "output_type": "display_data"
    }
   ],
   "source": [
    "plt.figure(figsize=(14, 10))\n",
    "\n",
    "plt.plot(\n",
    "    np.arange(1, 10), \n",
    "    accuracy_test, \n",
    "    color=\"red\", \n",
    "    label=\"accuracy на тесте\"\n",
    ")\n",
    "\n",
    "plt.fill_between(\n",
    "    np.arange(1, 10),      \n",
    "    accuracy_test - np.sqrt(var_test), \n",
    "    accuracy_test + np.sqrt(var_test),\n",
    "    alpha=0.5,\n",
    "    color=\"red\"\n",
    ")\n",
    "\n",
    "plt.plot(\n",
    "    np.arange(1, 10), \n",
    "    accuracy_train, \n",
    "    color=\"green\", \n",
    "    label=\"accuracy на обучении\"\n",
    ")\n",
    "\n",
    "plt.fill_between(\n",
    "    np.arange(1, 10),      \n",
    "    accuracy_train - np.sqrt(var_train), \n",
    "    accuracy_train + np.sqrt(var_train),\n",
    "    alpha=0.5,\n",
    "    color=\"green\"\n",
    ")\n",
    "\n",
    "plt.xlabel(\"число признаков\")\n",
    "plt.ylabel(\"accuracy\")\n",
    "plt.legend()\n",
    "plt.show()"
   ]
  },
  {
   "cell_type": "markdown",
   "metadata": {},
   "source": [
    "**Вывод.**\n",
    "\n",
    "Как можно увидеть по построенному графику, начиная с 6 признаков, точность работы алгоритма на тестовой выборке начинает ухудшаться. Кроме того, наилучшее значение `accuracy` на обучающей выборке достигается, когда число признаков равно 4.\n",
    "\n",
    "Это значит, что в данных есть как минимум 3 незначимых признака, от которых необходимо избавиться, чтобы избежать переобучения. \n",
    "\n"
   ]
  },
  {
   "cell_type": "code",
   "execution_count": null,
   "metadata": {},
   "outputs": [],
   "source": []
  }
 ],
 "metadata": {
  "kernelspec": {
   "display_name": "Python 3",
   "language": "python",
   "name": "python3"
  },
  "language_info": {
   "codemirror_mode": {
    "name": "ipython",
    "version": 3
   },
   "file_extension": ".py",
   "mimetype": "text/x-python",
   "name": "python",
   "nbconvert_exporter": "python",
   "pygments_lexer": "ipython3",
   "version": "3.6.4"
  }
 },
 "nbformat": 4,
 "nbformat_minor": 2
}
