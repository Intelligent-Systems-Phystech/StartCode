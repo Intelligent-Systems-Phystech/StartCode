{
 "cells": [
  {
   "cell_type": "markdown",
   "metadata": {},
   "source": [
    "# Цель эксперимента:\n",
    "Решить задачу классификации на выборке \"SemEval 2015\". Используемые модели: логистическая регрессия на центроидах векторов предложений, SVM, KNN, решающие деревья. \n",
    "\n",
    "Используемые критерии качества: ROC AUC, PR кривая, сложность модели.\n",
    "\n",
    "Структурные параметры: глубина и структура деревьев, параметры регуляризации логистической регрессии и SVM, количество соседей в KNN\n",
    "\n",
    "Критерии качества: F1 - мера"
   ]
  },
  {
   "cell_type": "markdown",
   "metadata": {},
   "source": [
    "# Описание данных\n",
    "Данные представляют собой таблицу с 3 колонками. Во 2 и 3 столбце находятся 2 предложения на английском языке из заголовков новостей, подписей к изображениям, ответов учащихся и ответов на форумах. В 1 столбце стоит оценка сходства этих предложений от 0 (не имеют отношения) до 5 (семантическая эквивалентность)."
   ]
  },
  {
   "cell_type": "code",
   "execution_count": 1,
   "metadata": {},
   "outputs": [
    {
     "name": "stdout",
     "output_type": "stream",
     "text": [
      "[nltk_data] Downloading package punkt to /home/yashart/nltk_data...\n",
      "[nltk_data]   Package punkt is already up-to-date!\n"
     ]
    }
   ],
   "source": [
    "%matplotlib inline\n",
    "import matplotlib.pyplot as plt\n",
    "\n",
    "import pandas as pd\n",
    "import numpy as np\n",
    "from sklearn.model_selection import train_test_split, StratifiedKFold, cross_val_score, GridSearchCV, train_test_split\n",
    "from sklearn.linear_model import LogisticRegression, LogisticRegressionCV\n",
    "from sklearn import metrics\n",
    "from sklearn.preprocessing import normalize, label_binarize\n",
    "from sklearn.svm import SVC\n",
    "from sklearn.neighbors import KNeighborsClassifier\n",
    "from sklearn.tree import DecisionTreeClassifier\n",
    "\n",
    "import fasttext\n",
    "import nltk\n",
    "nltk.download('punkt')\n",
    "\n",
    "import io\n",
    "from operator import add\n",
    "import warnings\n",
    "warnings.filterwarnings(\"ignore\", category=FutureWarning)"
   ]
  },
  {
   "cell_type": "markdown",
   "metadata": {},
   "source": [
    "# Загрузка данных"
   ]
  },
  {
   "cell_type": "code",
   "execution_count": 2,
   "metadata": {},
   "outputs": [
    {
     "name": "stderr",
     "output_type": "stream",
     "text": [
      "b'Skipping line 6281: expected 3 fields, saw 5\\nSkipping line 7594: expected 3 fields, saw 4\\nSkipping line 22828: expected 3 fields, saw 4\\nSkipping line 34320: expected 3 fields, saw 5\\nSkipping line 40352: expected 3 fields, saw 4\\nSkipping line 40353: expected 3 fields, saw 4\\nSkipping line 52160: expected 3 fields, saw 4\\nSkipping line 52163: expected 3 fields, saw 4\\n'\n"
     ]
    },
    {
     "data": {
      "text/html": [
       "<div>\n",
       "<style scoped>\n",
       "    .dataframe tbody tr th:only-of-type {\n",
       "        vertical-align: middle;\n",
       "    }\n",
       "\n",
       "    .dataframe tbody tr th {\n",
       "        vertical-align: top;\n",
       "    }\n",
       "\n",
       "    .dataframe thead th {\n",
       "        text-align: right;\n",
       "    }\n",
       "</style>\n",
       "<table border=\"1\" class=\"dataframe\">\n",
       "  <thead>\n",
       "    <tr style=\"text-align: right;\">\n",
       "      <th></th>\n",
       "      <th>0</th>\n",
       "      <th>1</th>\n",
       "      <th>2</th>\n",
       "    </tr>\n",
       "  </thead>\n",
       "  <tbody>\n",
       "    <tr>\n",
       "      <th>0</th>\n",
       "      <td>2</td>\n",
       "      <td>A switch will affect a bulb it the bulb and th...</td>\n",
       "      <td>When the switch and the bulb are contained in ...</td>\n",
       "    </tr>\n",
       "    <tr>\n",
       "      <th>1</th>\n",
       "      <td>1</td>\n",
       "      <td>The switch determines whether the path is open...</td>\n",
       "      <td>If a bulb and a switch are in the same path th...</td>\n",
       "    </tr>\n",
       "    <tr>\n",
       "      <th>2</th>\n",
       "      <td>0</td>\n",
       "      <td>because there is a gap</td>\n",
       "      <td>Terminal 1 and the positive terminal are separ...</td>\n",
       "    </tr>\n",
       "    <tr>\n",
       "      <th>3</th>\n",
       "      <td>0</td>\n",
       "      <td>not contained insa me path</td>\n",
       "      <td>A and B have their own path</td>\n",
       "    </tr>\n",
       "    <tr>\n",
       "      <th>4</th>\n",
       "      <td>3</td>\n",
       "      <td>a rank or position relative to others</td>\n",
       "      <td>take or have a position relative to others.</td>\n",
       "    </tr>\n",
       "  </tbody>\n",
       "</table>\n",
       "</div>"
      ],
      "text/plain": [
       "   0                                                  1  \\\n",
       "0  2  A switch will affect a bulb it the bulb and th...   \n",
       "1  1  The switch determines whether the path is open...   \n",
       "2  0                             because there is a gap   \n",
       "3  0                         not contained insa me path   \n",
       "4  3              a rank or position relative to others   \n",
       "\n",
       "                                                   2  \n",
       "0  When the switch and the bulb are contained in ...  \n",
       "1  If a bulb and a switch are in the same path th...  \n",
       "2  Terminal 1 and the positive terminal are separ...  \n",
       "3                        A and B have their own path  \n",
       "4        take or have a position relative to others.  "
      ]
     },
     "execution_count": 2,
     "metadata": {},
     "output_type": "execute_result"
    }
   ],
   "source": [
    "data = pd.read_csv('data.csv', sep='\\t', header=None, error_bad_lines=False)\n",
    "data.head()"
   ]
  },
  {
   "cell_type": "markdown",
   "metadata": {},
   "source": [
    "# Гистограмма первого столбца"
   ]
  },
  {
   "cell_type": "code",
   "execution_count": 3,
   "metadata": {},
   "outputs": [
    {
     "data": {
      "text/plain": [
       "array([[<matplotlib.axes._subplots.AxesSubplot object at 0x7febbd7fb940>]],\n",
       "      dtype=object)"
      ]
     },
     "execution_count": 3,
     "metadata": {},
     "output_type": "execute_result"
    },
    {
     "data": {
      "image/png": "[encoded data removed]",
      "text/plain": [
       "<Figure size 432x288 with 1 Axes>"
      ]
     },
     "metadata": {
      "needs_background": "light"
     },
     "output_type": "display_data"
    }
   ],
   "source": [
    "data.hist(bins=6)"
   ]
  },
  {
   "cell_type": "markdown",
   "metadata": {},
   "source": [
    "### Как заметно на графике, большинство предложений в выборке не связанны между собой. Количество пар предложений с коэффициентами подобия 1, 2, 3, 4, 5 примерно одинаково"
   ]
  },
  {
   "cell_type": "markdown",
   "metadata": {},
   "source": [
    "# Анализ пропусков"
   ]
  },
  {
   "cell_type": "code",
   "execution_count": 4,
   "metadata": {},
   "outputs": [
    {
     "data": {
      "text/plain": [
       "0    False\n",
       "1    False\n",
       "2     True\n",
       "dtype: bool"
      ]
     },
     "execution_count": 4,
     "metadata": {},
     "output_type": "execute_result"
    }
   ],
   "source": [
    "data.isnull().any()"
   ]
  },
  {
   "cell_type": "code",
   "execution_count": 5,
   "metadata": {},
   "outputs": [
    {
     "data": {
      "text/plain": [
       "0    False\n",
       "1    False\n",
       "2     True\n",
       "dtype: bool"
      ]
     },
     "execution_count": 5,
     "metadata": {},
     "output_type": "execute_result"
    }
   ],
   "source": [
    "data.isna().any()"
   ]
  },
  {
   "cell_type": "code",
   "execution_count": 6,
   "metadata": {},
   "outputs": [
    {
     "name": "stdout",
     "output_type": "stream",
     "text": [
      "<class 'pandas.core.frame.DataFrame'>\n",
      "RangeIndex: 53552 entries, 0 to 53551\n",
      "Data columns (total 3 columns):\n",
      "0    53552 non-null int64\n",
      "1    53552 non-null object\n",
      "2    53534 non-null object\n",
      "dtypes: int64(1), object(2)\n",
      "memory usage: 1.2+ MB\n"
     ]
    }
   ],
   "source": [
    "data.info()"
   ]
  },
  {
   "cell_type": "markdown",
   "metadata": {},
   "source": [
    "### Выборка имеет пропуски во втором столбце, строки с ними удаляем"
   ]
  },
  {
   "cell_type": "code",
   "execution_count": 7,
   "metadata": {},
   "outputs": [],
   "source": [
    "data = data.dropna()"
   ]
  },
  {
   "cell_type": "code",
   "execution_count": 8,
   "metadata": {},
   "outputs": [
    {
     "data": {
      "text/plain": [
       "0    False\n",
       "1    False\n",
       "2    False\n",
       "dtype: bool"
      ]
     },
     "execution_count": 8,
     "metadata": {},
     "output_type": "execute_result"
    }
   ],
   "source": [
    "data.isnull().any()"
   ]
  },
  {
   "cell_type": "code",
   "execution_count": 9,
   "metadata": {},
   "outputs": [
    {
     "data": {
      "text/plain": [
       "0    False\n",
       "1    False\n",
       "2    False\n",
       "dtype: bool"
      ]
     },
     "execution_count": 9,
     "metadata": {},
     "output_type": "execute_result"
    }
   ],
   "source": [
    "data.isna().any()"
   ]
  },
  {
   "cell_type": "markdown",
   "metadata": {},
   "source": [
    "# Перевод предложений в форму для анализа с использованием векторов предложений английского языка.\n",
    "\n",
    "## (UPD) Я использовал pretrained model для simplified english из-за меньшего размера модели и отсутствию достаточного количества оперативной памяти на рабочем пк."
   ]
  },
  {
   "cell_type": "code",
   "execution_count": 10,
   "metadata": {},
   "outputs": [],
   "source": [
    "def load_vectors(fname):\n",
    "    fin = io.open(fname, 'r', encoding='utf-8', newline='\\n', errors='ignore')\n",
    "    n, d = map(int, fin.readline().split())\n",
    "    data = {}\n",
    "    for line in fin:\n",
    "        tokens = line.rstrip().split(' ')\n",
    "        data[tokens[0]] = [float(token) for token in tokens[1:]]\n",
    "    return data"
   ]
  },
  {
   "cell_type": "code",
   "execution_count": 11,
   "metadata": {},
   "outputs": [],
   "source": [
    "fastTextModel = load_vectors('wiki.simple.vec')"
   ]
  },
  {
   "cell_type": "code",
   "execution_count": 12,
   "metadata": {},
   "outputs": [],
   "source": [
    "data1 = []\n",
    "for sequence1 in data[1]:\n",
    "    tokens = nltk.word_tokenize(sequence1)\n",
    "    vector = []\n",
    "    wordsNums = 0\n",
    "    for token in tokens:\n",
    "        if token in fastTextModel:\n",
    "            wordsNums += 1\n",
    "            if wordsNums == 1:\n",
    "                vector = fastTextModel[token]\n",
    "            else:\n",
    "                vector = [vector[i] + (fastTextModel[token])[i] for i in range(0, len(vector))]\n",
    "\n",
    "    vector = [x / wordsNums for x in vector]\n",
    "\n",
    "    data1.append(vector)\n"
   ]
  },
  {
   "cell_type": "code",
   "execution_count": 13,
   "metadata": {},
   "outputs": [
    {
     "data": {
      "text/html": [
       "<div>\n",
       "<style scoped>\n",
       "    .dataframe tbody tr th:only-of-type {\n",
       "        vertical-align: middle;\n",
       "    }\n",
       "\n",
       "    .dataframe tbody tr th {\n",
       "        vertical-align: top;\n",
       "    }\n",
       "\n",
       "    .dataframe thead th {\n",
       "        text-align: right;\n",
       "    }\n",
       "</style>\n",
       "<table border=\"1\" class=\"dataframe\">\n",
       "  <thead>\n",
       "    <tr style=\"text-align: right;\">\n",
       "      <th></th>\n",
       "      <th>0</th>\n",
       "      <th>1</th>\n",
       "      <th>2</th>\n",
       "      <th>3</th>\n",
       "      <th>4</th>\n",
       "      <th>5</th>\n",
       "      <th>6</th>\n",
       "      <th>7</th>\n",
       "      <th>8</th>\n",
       "      <th>9</th>\n",
       "      <th>...</th>\n",
       "      <th>290</th>\n",
       "      <th>291</th>\n",
       "      <th>292</th>\n",
       "      <th>293</th>\n",
       "      <th>294</th>\n",
       "      <th>295</th>\n",
       "      <th>296</th>\n",
       "      <th>297</th>\n",
       "      <th>298</th>\n",
       "      <th>299</th>\n",
       "    </tr>\n",
       "  </thead>\n",
       "  <tbody>\n",
       "    <tr>\n",
       "      <th>0</th>\n",
       "      <td>0.041805</td>\n",
       "      <td>-0.075551</td>\n",
       "      <td>0.086595</td>\n",
       "      <td>-0.221745</td>\n",
       "      <td>0.049698</td>\n",
       "      <td>0.327926</td>\n",
       "      <td>-0.119440</td>\n",
       "      <td>-0.009601</td>\n",
       "      <td>0.022672</td>\n",
       "      <td>-0.001835</td>\n",
       "      <td>...</td>\n",
       "      <td>0.016054</td>\n",
       "      <td>-0.139608</td>\n",
       "      <td>0.031250</td>\n",
       "      <td>0.079283</td>\n",
       "      <td>-0.083964</td>\n",
       "      <td>0.026459</td>\n",
       "      <td>-0.282504</td>\n",
       "      <td>-0.039693</td>\n",
       "      <td>-0.086172</td>\n",
       "      <td>-0.207858</td>\n",
       "    </tr>\n",
       "    <tr>\n",
       "      <th>1</th>\n",
       "      <td>0.116783</td>\n",
       "      <td>0.017724</td>\n",
       "      <td>0.089273</td>\n",
       "      <td>-0.239869</td>\n",
       "      <td>0.123415</td>\n",
       "      <td>0.224407</td>\n",
       "      <td>-0.141931</td>\n",
       "      <td>-0.035286</td>\n",
       "      <td>0.029514</td>\n",
       "      <td>0.103091</td>\n",
       "      <td>...</td>\n",
       "      <td>0.012018</td>\n",
       "      <td>-0.229586</td>\n",
       "      <td>-0.126136</td>\n",
       "      <td>0.132932</td>\n",
       "      <td>-0.086329</td>\n",
       "      <td>0.058214</td>\n",
       "      <td>-0.247456</td>\n",
       "      <td>0.025174</td>\n",
       "      <td>-0.061585</td>\n",
       "      <td>-0.252064</td>\n",
       "    </tr>\n",
       "    <tr>\n",
       "      <th>2</th>\n",
       "      <td>0.095518</td>\n",
       "      <td>-0.083431</td>\n",
       "      <td>0.152000</td>\n",
       "      <td>-0.360500</td>\n",
       "      <td>0.177394</td>\n",
       "      <td>0.299246</td>\n",
       "      <td>-0.077063</td>\n",
       "      <td>-0.026326</td>\n",
       "      <td>0.148533</td>\n",
       "      <td>0.109087</td>\n",
       "      <td>...</td>\n",
       "      <td>0.023595</td>\n",
       "      <td>-0.141712</td>\n",
       "      <td>-0.067767</td>\n",
       "      <td>-0.028061</td>\n",
       "      <td>-0.129487</td>\n",
       "      <td>0.055781</td>\n",
       "      <td>-0.224432</td>\n",
       "      <td>-0.029646</td>\n",
       "      <td>-0.191087</td>\n",
       "      <td>-0.114553</td>\n",
       "    </tr>\n",
       "    <tr>\n",
       "      <th>3</th>\n",
       "      <td>0.134428</td>\n",
       "      <td>-0.064073</td>\n",
       "      <td>0.167495</td>\n",
       "      <td>-0.292917</td>\n",
       "      <td>0.041421</td>\n",
       "      <td>0.117234</td>\n",
       "      <td>-0.060676</td>\n",
       "      <td>-0.011699</td>\n",
       "      <td>0.101043</td>\n",
       "      <td>0.142907</td>\n",
       "      <td>...</td>\n",
       "      <td>0.115770</td>\n",
       "      <td>-0.255680</td>\n",
       "      <td>-0.094371</td>\n",
       "      <td>-0.026798</td>\n",
       "      <td>-0.059796</td>\n",
       "      <td>0.042292</td>\n",
       "      <td>-0.046980</td>\n",
       "      <td>0.013283</td>\n",
       "      <td>-0.116802</td>\n",
       "      <td>-0.118928</td>\n",
       "    </tr>\n",
       "    <tr>\n",
       "      <th>4</th>\n",
       "      <td>0.158426</td>\n",
       "      <td>-0.018740</td>\n",
       "      <td>0.183370</td>\n",
       "      <td>-0.241824</td>\n",
       "      <td>0.164232</td>\n",
       "      <td>0.129662</td>\n",
       "      <td>-0.123529</td>\n",
       "      <td>-0.010511</td>\n",
       "      <td>-0.014409</td>\n",
       "      <td>0.040690</td>\n",
       "      <td>...</td>\n",
       "      <td>0.004868</td>\n",
       "      <td>-0.221039</td>\n",
       "      <td>-0.084491</td>\n",
       "      <td>0.041919</td>\n",
       "      <td>-0.021942</td>\n",
       "      <td>0.075617</td>\n",
       "      <td>-0.276474</td>\n",
       "      <td>-0.106039</td>\n",
       "      <td>-0.104348</td>\n",
       "      <td>-0.074792</td>\n",
       "    </tr>\n",
       "  </tbody>\n",
       "</table>\n",
       "<p>5 rows × 300 columns</p>\n",
       "</div>"
      ],
      "text/plain": [
       "        0         1         2         3         4         5         6    \\\n",
       "0  0.041805 -0.075551  0.086595 -0.221745  0.049698  0.327926 -0.119440   \n",
       "1  0.116783  0.017724  0.089273 -0.239869  0.123415  0.224407 -0.141931   \n",
       "2  0.095518 -0.083431  0.152000 -0.360500  0.177394  0.299246 -0.077063   \n",
       "3  0.134428 -0.064073  0.167495 -0.292917  0.041421  0.117234 -0.060676   \n",
       "4  0.158426 -0.018740  0.183370 -0.241824  0.164232  0.129662 -0.123529   \n",
       "\n",
       "        7         8         9      ...          290       291       292  \\\n",
       "0 -0.009601  0.022672 -0.001835    ...     0.016054 -0.139608  0.031250   \n",
       "1 -0.035286  0.029514  0.103091    ...     0.012018 -0.229586 -0.126136   \n",
       "2 -0.026326  0.148533  0.109087    ...     0.023595 -0.141712 -0.067767   \n",
       "3 -0.011699  0.101043  0.142907    ...     0.115770 -0.255680 -0.094371   \n",
       "4 -0.010511 -0.014409  0.040690    ...     0.004868 -0.221039 -0.084491   \n",
       "\n",
       "        293       294       295       296       297       298       299  \n",
       "0  0.079283 -0.083964  0.026459 -0.282504 -0.039693 -0.086172 -0.207858  \n",
       "1  0.132932 -0.086329  0.058214 -0.247456  0.025174 -0.061585 -0.252064  \n",
       "2 -0.028061 -0.129487  0.055781 -0.224432 -0.029646 -0.191087 -0.114553  \n",
       "3 -0.026798 -0.059796  0.042292 -0.046980  0.013283 -0.116802 -0.118928  \n",
       "4  0.041919 -0.021942  0.075617 -0.276474 -0.106039 -0.104348 -0.074792  \n",
       "\n",
       "[5 rows x 300 columns]"
      ]
     },
     "execution_count": 13,
     "metadata": {},
     "output_type": "execute_result"
    }
   ],
   "source": [
    "data1Pandas = pd.DataFrame(data=data1)\n",
    "data1Pandas.head()"
   ]
  },
  {
   "cell_type": "code",
   "execution_count": 14,
   "metadata": {},
   "outputs": [],
   "source": [
    "data2 = []\n",
    "for sequence2 in data[2]:\n",
    "    tokens = nltk.word_tokenize(sequence2)\n",
    "    vector = []\n",
    "    wordsNums = 0\n",
    "    for token in tokens:\n",
    "        if token in fastTextModel:\n",
    "            wordsNums += 1\n",
    "            if wordsNums == 1:\n",
    "                vector = list(fastTextModel[token])\n",
    "            else:\n",
    "                vector = [vector[i] + (fastTextModel[token])[i] for i in range(0, len(vector))]\n",
    "\n",
    "    vector = [x / wordsNums for x in vector]\n",
    "    \n",
    "    data2.append(vector)\n"
   ]
  },
  {
   "cell_type": "code",
   "execution_count": 15,
   "metadata": {},
   "outputs": [],
   "source": [
    "data2Pandas = pd.DataFrame(data=data2)"
   ]
  },
  {
   "cell_type": "code",
   "execution_count": 16,
   "metadata": {},
   "outputs": [],
   "source": [
    "data.columns = ['labels', 'text1', 'text2']\n",
    "cleanDataFrame = pd.concat([data1Pandas, data2Pandas, data['labels']], axis=1, sort=False)"
   ]
  },
  {
   "cell_type": "code",
   "execution_count": 17,
   "metadata": {},
   "outputs": [
    {
     "data": {
      "text/html": [
       "<div>\n",
       "<style scoped>\n",
       "    .dataframe tbody tr th:only-of-type {\n",
       "        vertical-align: middle;\n",
       "    }\n",
       "\n",
       "    .dataframe tbody tr th {\n",
       "        vertical-align: top;\n",
       "    }\n",
       "\n",
       "    .dataframe thead th {\n",
       "        text-align: right;\n",
       "    }\n",
       "</style>\n",
       "<table border=\"1\" class=\"dataframe\">\n",
       "  <thead>\n",
       "    <tr style=\"text-align: right;\">\n",
       "      <th></th>\n",
       "      <th>0</th>\n",
       "      <th>1</th>\n",
       "      <th>2</th>\n",
       "      <th>3</th>\n",
       "      <th>4</th>\n",
       "      <th>5</th>\n",
       "      <th>6</th>\n",
       "      <th>7</th>\n",
       "      <th>8</th>\n",
       "      <th>9</th>\n",
       "      <th>...</th>\n",
       "      <th>291</th>\n",
       "      <th>292</th>\n",
       "      <th>293</th>\n",
       "      <th>294</th>\n",
       "      <th>295</th>\n",
       "      <th>296</th>\n",
       "      <th>297</th>\n",
       "      <th>298</th>\n",
       "      <th>299</th>\n",
       "      <th>labels</th>\n",
       "    </tr>\n",
       "  </thead>\n",
       "  <tbody>\n",
       "    <tr>\n",
       "      <th>0</th>\n",
       "      <td>0.041805</td>\n",
       "      <td>-0.075551</td>\n",
       "      <td>0.086595</td>\n",
       "      <td>-0.221745</td>\n",
       "      <td>0.049698</td>\n",
       "      <td>0.327926</td>\n",
       "      <td>-0.119440</td>\n",
       "      <td>-0.009601</td>\n",
       "      <td>0.022672</td>\n",
       "      <td>-0.001835</td>\n",
       "      <td>...</td>\n",
       "      <td>-0.171884</td>\n",
       "      <td>0.031532</td>\n",
       "      <td>0.035311</td>\n",
       "      <td>-0.100389</td>\n",
       "      <td>0.038077</td>\n",
       "      <td>-0.204991</td>\n",
       "      <td>-0.033625</td>\n",
       "      <td>-0.054880</td>\n",
       "      <td>-0.210176</td>\n",
       "      <td>2.0</td>\n",
       "    </tr>\n",
       "    <tr>\n",
       "      <th>1</th>\n",
       "      <td>0.116783</td>\n",
       "      <td>0.017724</td>\n",
       "      <td>0.089273</td>\n",
       "      <td>-0.239869</td>\n",
       "      <td>0.123415</td>\n",
       "      <td>0.224407</td>\n",
       "      <td>-0.141931</td>\n",
       "      <td>-0.035286</td>\n",
       "      <td>0.029514</td>\n",
       "      <td>0.103091</td>\n",
       "      <td>...</td>\n",
       "      <td>-0.141500</td>\n",
       "      <td>0.020389</td>\n",
       "      <td>0.062220</td>\n",
       "      <td>-0.076832</td>\n",
       "      <td>0.008534</td>\n",
       "      <td>-0.249507</td>\n",
       "      <td>-0.014810</td>\n",
       "      <td>-0.046243</td>\n",
       "      <td>-0.219965</td>\n",
       "      <td>1.0</td>\n",
       "    </tr>\n",
       "    <tr>\n",
       "      <th>2</th>\n",
       "      <td>0.095518</td>\n",
       "      <td>-0.083431</td>\n",
       "      <td>0.152000</td>\n",
       "      <td>-0.360500</td>\n",
       "      <td>0.177394</td>\n",
       "      <td>0.299246</td>\n",
       "      <td>-0.077063</td>\n",
       "      <td>-0.026326</td>\n",
       "      <td>0.148533</td>\n",
       "      <td>0.109087</td>\n",
       "      <td>...</td>\n",
       "      <td>-0.122036</td>\n",
       "      <td>-0.013295</td>\n",
       "      <td>0.022548</td>\n",
       "      <td>-0.152667</td>\n",
       "      <td>0.144898</td>\n",
       "      <td>-0.155924</td>\n",
       "      <td>0.036698</td>\n",
       "      <td>-0.092041</td>\n",
       "      <td>-0.172830</td>\n",
       "      <td>0.0</td>\n",
       "    </tr>\n",
       "    <tr>\n",
       "      <th>3</th>\n",
       "      <td>0.134428</td>\n",
       "      <td>-0.064073</td>\n",
       "      <td>0.167495</td>\n",
       "      <td>-0.292917</td>\n",
       "      <td>0.041421</td>\n",
       "      <td>0.117234</td>\n",
       "      <td>-0.060676</td>\n",
       "      <td>-0.011699</td>\n",
       "      <td>0.101043</td>\n",
       "      <td>0.142907</td>\n",
       "      <td>...</td>\n",
       "      <td>-0.313408</td>\n",
       "      <td>-0.033434</td>\n",
       "      <td>0.039315</td>\n",
       "      <td>-0.121034</td>\n",
       "      <td>-0.042523</td>\n",
       "      <td>-0.181927</td>\n",
       "      <td>-0.124978</td>\n",
       "      <td>0.001263</td>\n",
       "      <td>-0.157525</td>\n",
       "      <td>0.0</td>\n",
       "    </tr>\n",
       "    <tr>\n",
       "      <th>4</th>\n",
       "      <td>0.158426</td>\n",
       "      <td>-0.018740</td>\n",
       "      <td>0.183370</td>\n",
       "      <td>-0.241824</td>\n",
       "      <td>0.164232</td>\n",
       "      <td>0.129662</td>\n",
       "      <td>-0.123529</td>\n",
       "      <td>-0.010511</td>\n",
       "      <td>-0.014409</td>\n",
       "      <td>0.040690</td>\n",
       "      <td>...</td>\n",
       "      <td>-0.194292</td>\n",
       "      <td>-0.094475</td>\n",
       "      <td>0.041129</td>\n",
       "      <td>-0.068172</td>\n",
       "      <td>0.033419</td>\n",
       "      <td>-0.242180</td>\n",
       "      <td>-0.083911</td>\n",
       "      <td>-0.144645</td>\n",
       "      <td>-0.081769</td>\n",
       "      <td>3.0</td>\n",
       "    </tr>\n",
       "  </tbody>\n",
       "</table>\n",
       "<p>5 rows × 601 columns</p>\n",
       "</div>"
      ],
      "text/plain": [
       "          0         1         2         3         4         5         6  \\\n",
       "0  0.041805 -0.075551  0.086595 -0.221745  0.049698  0.327926 -0.119440   \n",
       "1  0.116783  0.017724  0.089273 -0.239869  0.123415  0.224407 -0.141931   \n",
       "2  0.095518 -0.083431  0.152000 -0.360500  0.177394  0.299246 -0.077063   \n",
       "3  0.134428 -0.064073  0.167495 -0.292917  0.041421  0.117234 -0.060676   \n",
       "4  0.158426 -0.018740  0.183370 -0.241824  0.164232  0.129662 -0.123529   \n",
       "\n",
       "          7         8         9   ...         291       292       293  \\\n",
       "0 -0.009601  0.022672 -0.001835   ...   -0.171884  0.031532  0.035311   \n",
       "1 -0.035286  0.029514  0.103091   ...   -0.141500  0.020389  0.062220   \n",
       "2 -0.026326  0.148533  0.109087   ...   -0.122036 -0.013295  0.022548   \n",
       "3 -0.011699  0.101043  0.142907   ...   -0.313408 -0.033434  0.039315   \n",
       "4 -0.010511 -0.014409  0.040690   ...   -0.194292 -0.094475  0.041129   \n",
       "\n",
       "        294       295       296       297       298       299  labels  \n",
       "0 -0.100389  0.038077 -0.204991 -0.033625 -0.054880 -0.210176     2.0  \n",
       "1 -0.076832  0.008534 -0.249507 -0.014810 -0.046243 -0.219965     1.0  \n",
       "2 -0.152667  0.144898 -0.155924  0.036698 -0.092041 -0.172830     0.0  \n",
       "3 -0.121034 -0.042523 -0.181927 -0.124978  0.001263 -0.157525     0.0  \n",
       "4 -0.068172  0.033419 -0.242180 -0.083911 -0.144645 -0.081769     3.0  \n",
       "\n",
       "[5 rows x 601 columns]"
      ]
     },
     "execution_count": 17,
     "metadata": {},
     "output_type": "execute_result"
    }
   ],
   "source": [
    "cleanDataFrame = cleanDataFrame.dropna()\n",
    "cleanDataFrame.head()"
   ]
  },
  {
   "cell_type": "markdown",
   "metadata": {},
   "source": [
    "### Получаем таблицу с 601 колонкой, где 300 певых колонок - вектор первого предложения, вторые 300 - вектор 2-ого предложения, последняя колонка - коэффициент подобия"
   ]
  },
  {
   "cell_type": "markdown",
   "metadata": {},
   "source": [
    "# Список моделей:"
   ]
  },
  {
   "cell_type": "markdown",
   "metadata": {},
   "source": [
    "\n",
    "\n",
    "Для решения поставленной задачи используются следующие модели:\n",
    "\n",
    "- Логистическая регрессия\n",
    "- SVM\n",
    "- KNN\n",
    "- Decision Tree"
   ]
  },
  {
   "cell_type": "markdown",
   "metadata": {},
   "source": [
    "# Критерии качества:"
   ]
  },
  {
   "cell_type": "markdown",
   "metadata": {},
   "source": [
    "Precision-Recall-кривая"
   ]
  },
  {
   "cell_type": "markdown",
   "metadata": {},
   "source": [
    "# Разбиение выборки на обучение и контроль 70% на 30%"
   ]
  },
  {
   "cell_type": "code",
   "execution_count": 18,
   "metadata": {},
   "outputs": [],
   "source": [
    "# restart kernel because lack of memory\n",
    "cleanDataFrame.to_csv('clean_data.csv')"
   ]
  },
  {
   "cell_type": "code",
   "execution_count": 2,
   "metadata": {},
   "outputs": [
    {
     "data": {
      "text/html": [
       "<div>\n",
       "<style scoped>\n",
       "    .dataframe tbody tr th:only-of-type {\n",
       "        vertical-align: middle;\n",
       "    }\n",
       "\n",
       "    .dataframe tbody tr th {\n",
       "        vertical-align: top;\n",
       "    }\n",
       "\n",
       "    .dataframe thead th {\n",
       "        text-align: right;\n",
       "    }\n",
       "</style>\n",
       "<table border=\"1\" class=\"dataframe\">\n",
       "  <thead>\n",
       "    <tr style=\"text-align: right;\">\n",
       "      <th></th>\n",
       "      <th>Unnamed: 0</th>\n",
       "      <th>0</th>\n",
       "      <th>1</th>\n",
       "      <th>2</th>\n",
       "      <th>3</th>\n",
       "      <th>4</th>\n",
       "      <th>5</th>\n",
       "      <th>6</th>\n",
       "      <th>7</th>\n",
       "      <th>8</th>\n",
       "      <th>...</th>\n",
       "      <th>291.1</th>\n",
       "      <th>292.1</th>\n",
       "      <th>293.1</th>\n",
       "      <th>294.1</th>\n",
       "      <th>295.1</th>\n",
       "      <th>296.1</th>\n",
       "      <th>297.1</th>\n",
       "      <th>298.1</th>\n",
       "      <th>299.1</th>\n",
       "      <th>labels</th>\n",
       "    </tr>\n",
       "  </thead>\n",
       "  <tbody>\n",
       "    <tr>\n",
       "      <th>0</th>\n",
       "      <td>0</td>\n",
       "      <td>0.041805</td>\n",
       "      <td>-0.075551</td>\n",
       "      <td>0.086595</td>\n",
       "      <td>-0.221745</td>\n",
       "      <td>0.049698</td>\n",
       "      <td>0.327926</td>\n",
       "      <td>-0.119440</td>\n",
       "      <td>-0.009601</td>\n",
       "      <td>0.022672</td>\n",
       "      <td>...</td>\n",
       "      <td>-0.171884</td>\n",
       "      <td>0.031532</td>\n",
       "      <td>0.035311</td>\n",
       "      <td>-0.100389</td>\n",
       "      <td>0.038077</td>\n",
       "      <td>-0.204991</td>\n",
       "      <td>-0.033625</td>\n",
       "      <td>-0.054880</td>\n",
       "      <td>-0.210176</td>\n",
       "      <td>2.0</td>\n",
       "    </tr>\n",
       "    <tr>\n",
       "      <th>1</th>\n",
       "      <td>1</td>\n",
       "      <td>0.116783</td>\n",
       "      <td>0.017724</td>\n",
       "      <td>0.089273</td>\n",
       "      <td>-0.239869</td>\n",
       "      <td>0.123415</td>\n",
       "      <td>0.224407</td>\n",
       "      <td>-0.141931</td>\n",
       "      <td>-0.035286</td>\n",
       "      <td>0.029514</td>\n",
       "      <td>...</td>\n",
       "      <td>-0.141500</td>\n",
       "      <td>0.020389</td>\n",
       "      <td>0.062220</td>\n",
       "      <td>-0.076832</td>\n",
       "      <td>0.008534</td>\n",
       "      <td>-0.249507</td>\n",
       "      <td>-0.014810</td>\n",
       "      <td>-0.046243</td>\n",
       "      <td>-0.219965</td>\n",
       "      <td>1.0</td>\n",
       "    </tr>\n",
       "    <tr>\n",
       "      <th>2</th>\n",
       "      <td>2</td>\n",
       "      <td>0.095518</td>\n",
       "      <td>-0.083431</td>\n",
       "      <td>0.152000</td>\n",
       "      <td>-0.360500</td>\n",
       "      <td>0.177394</td>\n",
       "      <td>0.299246</td>\n",
       "      <td>-0.077063</td>\n",
       "      <td>-0.026326</td>\n",
       "      <td>0.148533</td>\n",
       "      <td>...</td>\n",
       "      <td>-0.122036</td>\n",
       "      <td>-0.013295</td>\n",
       "      <td>0.022548</td>\n",
       "      <td>-0.152667</td>\n",
       "      <td>0.144898</td>\n",
       "      <td>-0.155924</td>\n",
       "      <td>0.036698</td>\n",
       "      <td>-0.092041</td>\n",
       "      <td>-0.172830</td>\n",
       "      <td>0.0</td>\n",
       "    </tr>\n",
       "    <tr>\n",
       "      <th>3</th>\n",
       "      <td>3</td>\n",
       "      <td>0.134428</td>\n",
       "      <td>-0.064073</td>\n",
       "      <td>0.167495</td>\n",
       "      <td>-0.292917</td>\n",
       "      <td>0.041421</td>\n",
       "      <td>0.117234</td>\n",
       "      <td>-0.060676</td>\n",
       "      <td>-0.011699</td>\n",
       "      <td>0.101043</td>\n",
       "      <td>...</td>\n",
       "      <td>-0.313408</td>\n",
       "      <td>-0.033434</td>\n",
       "      <td>0.039315</td>\n",
       "      <td>-0.121034</td>\n",
       "      <td>-0.042523</td>\n",
       "      <td>-0.181927</td>\n",
       "      <td>-0.124978</td>\n",
       "      <td>0.001263</td>\n",
       "      <td>-0.157525</td>\n",
       "      <td>0.0</td>\n",
       "    </tr>\n",
       "    <tr>\n",
       "      <th>4</th>\n",
       "      <td>4</td>\n",
       "      <td>0.158426</td>\n",
       "      <td>-0.018740</td>\n",
       "      <td>0.183370</td>\n",
       "      <td>-0.241824</td>\n",
       "      <td>0.164232</td>\n",
       "      <td>0.129662</td>\n",
       "      <td>-0.123529</td>\n",
       "      <td>-0.010511</td>\n",
       "      <td>-0.014409</td>\n",
       "      <td>...</td>\n",
       "      <td>-0.194292</td>\n",
       "      <td>-0.094475</td>\n",
       "      <td>0.041129</td>\n",
       "      <td>-0.068172</td>\n",
       "      <td>0.033419</td>\n",
       "      <td>-0.242180</td>\n",
       "      <td>-0.083911</td>\n",
       "      <td>-0.144645</td>\n",
       "      <td>-0.081769</td>\n",
       "      <td>3.0</td>\n",
       "    </tr>\n",
       "  </tbody>\n",
       "</table>\n",
       "<p>5 rows × 602 columns</p>\n",
       "</div>"
      ],
      "text/plain": [
       "   Unnamed: 0         0         1         2         3         4         5  \\\n",
       "0           0  0.041805 -0.075551  0.086595 -0.221745  0.049698  0.327926   \n",
       "1           1  0.116783  0.017724  0.089273 -0.239869  0.123415  0.224407   \n",
       "2           2  0.095518 -0.083431  0.152000 -0.360500  0.177394  0.299246   \n",
       "3           3  0.134428 -0.064073  0.167495 -0.292917  0.041421  0.117234   \n",
       "4           4  0.158426 -0.018740  0.183370 -0.241824  0.164232  0.129662   \n",
       "\n",
       "          6         7         8   ...       291.1     292.1     293.1  \\\n",
       "0 -0.119440 -0.009601  0.022672   ...   -0.171884  0.031532  0.035311   \n",
       "1 -0.141931 -0.035286  0.029514   ...   -0.141500  0.020389  0.062220   \n",
       "2 -0.077063 -0.026326  0.148533   ...   -0.122036 -0.013295  0.022548   \n",
       "3 -0.060676 -0.011699  0.101043   ...   -0.313408 -0.033434  0.039315   \n",
       "4 -0.123529 -0.010511 -0.014409   ...   -0.194292 -0.094475  0.041129   \n",
       "\n",
       "      294.1     295.1     296.1     297.1     298.1     299.1  labels  \n",
       "0 -0.100389  0.038077 -0.204991 -0.033625 -0.054880 -0.210176     2.0  \n",
       "1 -0.076832  0.008534 -0.249507 -0.014810 -0.046243 -0.219965     1.0  \n",
       "2 -0.152667  0.144898 -0.155924  0.036698 -0.092041 -0.172830     0.0  \n",
       "3 -0.121034 -0.042523 -0.181927 -0.124978  0.001263 -0.157525     0.0  \n",
       "4 -0.068172  0.033419 -0.242180 -0.083911 -0.144645 -0.081769     3.0  \n",
       "\n",
       "[5 rows x 602 columns]"
      ]
     },
     "execution_count": 2,
     "metadata": {},
     "output_type": "execute_result"
    }
   ],
   "source": [
    "cleanDataFrame = pd.read_csv('clean_data.csv')\n",
    "cleanDataFrame.head()"
   ]
  },
  {
   "cell_type": "code",
   "execution_count": 4,
   "metadata": {},
   "outputs": [
    {
     "name": "stdout",
     "output_type": "stream",
     "text": [
      "<class 'pandas.core.frame.DataFrame'>\n",
      "RangeIndex: 52844 entries, 0 to 52843\n",
      "Columns: 602 entries, Unnamed: 0 to labels\n",
      "dtypes: float64(601), int64(1)\n",
      "memory usage: 242.7 MB\n"
     ]
    }
   ],
   "source": [
    "cleanDataFrame.info()\n",
    "cleanDataFrame = cleanDataFrame[:3000]"
   ]
  },
  {
   "cell_type": "code",
   "execution_count": 5,
   "metadata": {},
   "outputs": [
    {
     "data": {
      "text/plain": [
       "((2100, 600), (2100,), (900, 600), (900,))"
      ]
     },
     "execution_count": 5,
     "metadata": {},
     "output_type": "execute_result"
    }
   ],
   "source": [
    "y = cleanDataFrame['labels']\n",
    "X = cleanDataFrame.drop(['labels', 'Unnamed: 0'], axis=1)\n",
    "#y = preprocessing.label_binarize(y, classes=[0, 1, 2, 3, 4, 5])\n",
    "\n",
    "X_train, X_test, y_train, y_test = train_test_split(X, y, test_size=0.3, random_state = 1)\n",
    "X_train.shape, y_train.shape, X_test.shape, y_test.shape"
   ]
  },
  {
   "cell_type": "markdown",
   "metadata": {},
   "source": [
    "# Логистическая регрессия"
   ]
  },
  {
   "cell_type": "code",
   "execution_count": 121,
   "metadata": {},
   "outputs": [],
   "source": [
    "classifier = LogisticRegression()\n",
    "cv = StratifiedKFold(n_splits=2, shuffle=True, random_state=1)\n",
    "\n",
    "parameters_grid = {\n",
    "    'C' : [0.1, 1, 5, 10, 100],\n",
    "}\n",
    "\n",
    "grid_cv = GridSearchCV(classifier, parameters_grid, cv=cv)\n"
   ]
  },
  {
   "cell_type": "code",
   "execution_count": 122,
   "metadata": {},
   "outputs": [
    {
     "data": {
      "text/plain": [
       "GridSearchCV(cv=StratifiedKFold(n_splits=2, random_state=1, shuffle=True),\n",
       "       error_score='raise-deprecating',\n",
       "       estimator=LogisticRegression(C=1.0, class_weight=None, dual=False, fit_intercept=True,\n",
       "          intercept_scaling=1, max_iter=100, multi_class='warn',\n",
       "          n_jobs=None, penalty='l2', random_state=None, solver='warn',\n",
       "          tol=0.0001, verbose=0, warm_start=False),\n",
       "       fit_params=None, iid='warn', n_jobs=None,\n",
       "       param_grid={'C': [0.1, 1, 5, 10, 100]}, pre_dispatch='2*n_jobs',\n",
       "       refit=True, return_train_score='warn', scoring=None, verbose=0)"
      ]
     },
     "execution_count": 122,
     "metadata": {},
     "output_type": "execute_result"
    }
   ],
   "source": [
    "grid_cv.fit(X_train, y_train)"
   ]
  },
  {
   "cell_type": "code",
   "execution_count": 123,
   "metadata": {},
   "outputs": [
    {
     "data": {
      "text/plain": [
       "1"
      ]
     },
     "execution_count": 123,
     "metadata": {},
     "output_type": "execute_result"
    }
   ],
   "source": [
    "best_param = grid_cv.best_params_[\"C\"]\n",
    "best_param"
   ]
  },
  {
   "cell_type": "code",
   "execution_count": 124,
   "metadata": {},
   "outputs": [],
   "source": [
    "pred = grid_cv.predict(X_test)"
   ]
  },
  {
   "cell_type": "code",
   "execution_count": 125,
   "metadata": {},
   "outputs": [],
   "source": [
    "fbeta = metrics.precision_recall_fscore_support(y_test, pred)[2]"
   ]
  },
  {
   "cell_type": "code",
   "execution_count": 126,
   "metadata": {},
   "outputs": [
    {
     "name": "stdout",
     "output_type": "stream",
     "text": [
      "0.37844982083905315\n",
      "0.3273830208338535\n",
      "0.32437485292139046\n"
     ]
    }
   ],
   "source": [
    "print (np.mean(metrics.precision_recall_fscore_support(y_test, pred)[0]))\n",
    "print (np.mean(metrics.precision_recall_fscore_support(y_test, pred)[1]))\n",
    "print (np.mean(fbeta))"
   ]
  },
  {
   "cell_type": "markdown",
   "metadata": {},
   "source": [
    "f-мера - 0.17647231747069025, оптимальный параметр C - 1"
   ]
  },
  {
   "cell_type": "code",
   "execution_count": 127,
   "metadata": {},
   "outputs": [
    {
     "data": {
      "text/plain": [
       "[<matplotlib.lines.Line2D at 0x7f9dffbc1a58>]"
      ]
     },
     "execution_count": 127,
     "metadata": {},
     "output_type": "execute_result"
    },
    {
     "data": {
      "image/png": "[encoded data removed]",
      "text/plain": [
       "<Figure size 432x288 with 1 Axes>"
      ]
     },
     "metadata": {
      "needs_background": "light"
     },
     "output_type": "display_data"
    }
   ],
   "source": [
    "recall, precision = calc_precision_recall_plot(y_test, pred)\n",
    "plt.xlabel('Recall')\n",
    "plt.ylabel('Precision')\n",
    "plt.plot(recall, precision)"
   ]
  },
  {
   "cell_type": "markdown",
   "metadata": {},
   "source": [
    "# SVM"
   ]
  },
  {
   "cell_type": "code",
   "execution_count": 128,
   "metadata": {},
   "outputs": [],
   "source": [
    "classifier = SVC()\n",
    "cv = StratifiedKFold(n_splits=2, shuffle=True, random_state=1)\n",
    "\n",
    "parameters_grid = {\n",
    "    'C' : [0.1, 1, 5, 10, 100],\n",
    "}\n",
    "\n",
    "grid_cv = GridSearchCV(classifier, parameters_grid, cv=cv)\n"
   ]
  },
  {
   "cell_type": "code",
   "execution_count": 129,
   "metadata": {},
   "outputs": [
    {
     "data": {
      "text/plain": [
       "GridSearchCV(cv=StratifiedKFold(n_splits=2, random_state=1, shuffle=True),\n",
       "       error_score='raise-deprecating',\n",
       "       estimator=SVC(C=1.0, cache_size=200, class_weight=None, coef0=0.0,\n",
       "  decision_function_shape='ovr', degree=3, gamma='auto_deprecated',\n",
       "  kernel='rbf', max_iter=-1, probability=False, random_state=None,\n",
       "  shrinking=True, tol=0.001, verbose=False),\n",
       "       fit_params=None, iid='warn', n_jobs=None,\n",
       "       param_grid={'C': [0.1, 1, 5, 10, 100]}, pre_dispatch='2*n_jobs',\n",
       "       refit=True, return_train_score='warn', scoring=None, verbose=0)"
      ]
     },
     "execution_count": 129,
     "metadata": {},
     "output_type": "execute_result"
    }
   ],
   "source": [
    "grid_cv.fit(X_train, y_train)"
   ]
  },
  {
   "cell_type": "code",
   "execution_count": 130,
   "metadata": {},
   "outputs": [
    {
     "data": {
      "text/plain": [
       "100"
      ]
     },
     "execution_count": 130,
     "metadata": {},
     "output_type": "execute_result"
    }
   ],
   "source": [
    "best_param = grid_cv.best_params_[\"C\"]\n",
    "best_param"
   ]
  },
  {
   "cell_type": "code",
   "execution_count": 131,
   "metadata": {},
   "outputs": [],
   "source": [
    "pred = grid_cv.predict(X_test)"
   ]
  },
  {
   "cell_type": "code",
   "execution_count": 132,
   "metadata": {},
   "outputs": [],
   "source": [
    "fbeta = metrics.precision_recall_fscore_support(y_test, pred)[2]"
   ]
  },
  {
   "cell_type": "code",
   "execution_count": 133,
   "metadata": {},
   "outputs": [
    {
     "name": "stdout",
     "output_type": "stream",
     "text": [
      "0.4037562633763942\n",
      "0.31400502845857853\n",
      "0.3048332259893174\n"
     ]
    }
   ],
   "source": [
    "print (np.mean(metrics.precision_recall_fscore_support(y_test, pred)[0]))\n",
    "print (np.mean(metrics.precision_recall_fscore_support(y_test, pred)[1]))\n",
    "print (np.mean(fbeta))"
   ]
  },
  {
   "cell_type": "code",
   "execution_count": 134,
   "metadata": {},
   "outputs": [
    {
     "data": {
      "text/plain": [
       "[<matplotlib.lines.Line2D at 0x7f9e008e0048>]"
      ]
     },
     "execution_count": 134,
     "metadata": {},
     "output_type": "execute_result"
    },
    {
     "data": {
      "image/png": "[encoded data removed]",
      "text/plain": [
       "<Figure size 432x288 with 1 Axes>"
      ]
     },
     "metadata": {
      "needs_background": "light"
     },
     "output_type": "display_data"
    }
   ],
   "source": [
    "recall, precision = calc_precision_recall_plot(y_test, pred)\n",
    "plt.xlabel('Recall')\n",
    "plt.ylabel('Precision')\n",
    "plt.plot(recall, precision)"
   ]
  },
  {
   "cell_type": "markdown",
   "metadata": {},
   "source": [
    "# KNN"
   ]
  },
  {
   "cell_type": "code",
   "execution_count": 135,
   "metadata": {},
   "outputs": [],
   "source": [
    "classifier = KNeighborsClassifier()\n",
    "cv = StratifiedKFold(n_splits=2, shuffle=True, random_state=1)\n",
    "\n",
    "parameters_grid = {\n",
    "    'n_neighbors' : [1, 2],\n",
    "}\n",
    "\n",
    "grid_cv = GridSearchCV(classifier, parameters_grid, cv=cv)\n"
   ]
  },
  {
   "cell_type": "code",
   "execution_count": 136,
   "metadata": {},
   "outputs": [
    {
     "data": {
      "text/plain": [
       "GridSearchCV(cv=StratifiedKFold(n_splits=2, random_state=1, shuffle=True),\n",
       "       error_score='raise-deprecating',\n",
       "       estimator=KNeighborsClassifier(algorithm='auto', leaf_size=30, metric='minkowski',\n",
       "           metric_params=None, n_jobs=None, n_neighbors=5, p=2,\n",
       "           weights='uniform'),\n",
       "       fit_params=None, iid='warn', n_jobs=None,\n",
       "       param_grid={'n_neighbors': [1, 2]}, pre_dispatch='2*n_jobs',\n",
       "       refit=True, return_train_score='warn', scoring=None, verbose=0)"
      ]
     },
     "execution_count": 136,
     "metadata": {},
     "output_type": "execute_result"
    }
   ],
   "source": [
    "grid_cv.fit(X_train, y_train)"
   ]
  },
  {
   "cell_type": "code",
   "execution_count": 137,
   "metadata": {},
   "outputs": [
    {
     "data": {
      "text/plain": [
       "1"
      ]
     },
     "execution_count": 137,
     "metadata": {},
     "output_type": "execute_result"
    }
   ],
   "source": [
    "best_param = grid_cv.best_params_[\"n_neighbors\"]\n",
    "best_param"
   ]
  },
  {
   "cell_type": "code",
   "execution_count": 138,
   "metadata": {},
   "outputs": [],
   "source": [
    "pred = grid_cv.predict(X_test)"
   ]
  },
  {
   "cell_type": "code",
   "execution_count": 139,
   "metadata": {},
   "outputs": [],
   "source": [
    "fbeta = metrics.precision_recall_fscore_support(y_test, pred)[2]"
   ]
  },
  {
   "cell_type": "code",
   "execution_count": 140,
   "metadata": {},
   "outputs": [
    {
     "name": "stdout",
     "output_type": "stream",
     "text": [
      "0.3510735678392223\n",
      "0.3456457717212838\n",
      "0.34688600271348785\n"
     ]
    }
   ],
   "source": [
    "print (np.mean(metrics.precision_recall_fscore_support(y_test, pred)[0]))\n",
    "print (np.mean(metrics.precision_recall_fscore_support(y_test, pred)[1]))\n",
    "print (np.mean(fbeta))"
   ]
  },
  {
   "cell_type": "markdown",
   "metadata": {},
   "source": [
    "f-мера - 0.34688600271348785, оптимальный параметр n_neighbors - 1"
   ]
  },
  {
   "cell_type": "code",
   "execution_count": 141,
   "metadata": {},
   "outputs": [
    {
     "data": {
      "text/plain": [
       "[<matplotlib.lines.Line2D at 0x7f9dffc81f60>]"
      ]
     },
     "execution_count": 141,
     "metadata": {},
     "output_type": "execute_result"
    },
    {
     "data": {
      "image/png": "[encoded data removed]",
      "text/plain": [
       "<Figure size 432x288 with 1 Axes>"
      ]
     },
     "metadata": {
      "needs_background": "light"
     },
     "output_type": "display_data"
    }
   ],
   "source": [
    "recall, precision = calc_precision_recall_plot(y_test, pred)\n",
    "plt.xlabel('Recall')\n",
    "plt.ylabel('Precision')\n",
    "plt.plot(recall, precision)"
   ]
  },
  {
   "cell_type": "markdown",
   "metadata": {},
   "source": [
    "# Decision Tree"
   ]
  },
  {
   "cell_type": "code",
   "execution_count": 142,
   "metadata": {},
   "outputs": [],
   "source": [
    "classifier = DecisionTreeClassifier()\n",
    "cv = StratifiedKFold(n_splits=2, shuffle=True, random_state=1)\n",
    "\n",
    "parameters_grid = {\n",
    "    'max_depth' : [2, 3, 5],\n",
    "    'min_samples_split': [2,5]\n",
    "}\n",
    "\n",
    "grid_cv = GridSearchCV(classifier, parameters_grid, cv=cv)\n"
   ]
  },
  {
   "cell_type": "code",
   "execution_count": 143,
   "metadata": {},
   "outputs": [
    {
     "data": {
      "text/plain": [
       "GridSearchCV(cv=StratifiedKFold(n_splits=2, random_state=1, shuffle=True),\n",
       "       error_score='raise-deprecating',\n",
       "       estimator=DecisionTreeClassifier(class_weight=None, criterion='gini', max_depth=None,\n",
       "            max_features=None, max_leaf_nodes=None,\n",
       "            min_impurity_decrease=0.0, min_impurity_split=None,\n",
       "            min_samples_leaf=1, min_samples_split=2,\n",
       "            min_weight_fraction_leaf=0.0, presort=False, random_state=None,\n",
       "            splitter='best'),\n",
       "       fit_params=None, iid='warn', n_jobs=None,\n",
       "       param_grid={'max_depth': [2, 3, 5], 'min_samples_split': [2, 5]},\n",
       "       pre_dispatch='2*n_jobs', refit=True, return_train_score='warn',\n",
       "       scoring=None, verbose=0)"
      ]
     },
     "execution_count": 143,
     "metadata": {},
     "output_type": "execute_result"
    }
   ],
   "source": [
    "grid_cv.fit(X_train, y_train)"
   ]
  },
  {
   "cell_type": "code",
   "execution_count": 144,
   "metadata": {},
   "outputs": [
    {
     "name": "stdout",
     "output_type": "stream",
     "text": [
      "5\n",
      "2\n"
     ]
    }
   ],
   "source": [
    "best_param = grid_cv.best_params_[\"max_depth\"]\n",
    "print(best_param)\n",
    "best_param = grid_cv.best_params_[\"min_samples_split\"]\n",
    "print(best_param)"
   ]
  },
  {
   "cell_type": "code",
   "execution_count": 145,
   "metadata": {},
   "outputs": [],
   "source": [
    "pred = grid_cv.predict(X_test)"
   ]
  },
  {
   "cell_type": "code",
   "execution_count": 146,
   "metadata": {},
   "outputs": [],
   "source": [
    "fbeta = metrics.precision_recall_fscore_support(y_test, pred)[2]"
   ]
  },
  {
   "cell_type": "code",
   "execution_count": 147,
   "metadata": {},
   "outputs": [
    {
     "name": "stdout",
     "output_type": "stream",
     "text": [
      "0.347137658373689\n",
      "0.262932865301128\n",
      "0.22534673086881848\n"
     ]
    }
   ],
   "source": [
    "print (np.mean(metrics.precision_recall_fscore_support(y_test, pred)[0]))\n",
    "print (np.mean(metrics.precision_recall_fscore_support(y_test, pred)[1]))\n",
    "print (np.mean(fbeta))"
   ]
  },
  {
   "cell_type": "code",
   "execution_count": 148,
   "metadata": {},
   "outputs": [
    {
     "data": {
      "text/plain": [
       "array([0.28571429, 0.2557652 , 0.36363636, 0.26229508, 0.45454545,\n",
       "       0.46086957])"
      ]
     },
     "execution_count": 148,
     "metadata": {},
     "output_type": "execute_result"
    }
   ],
   "source": [
    "metrics.precision_recall_fscore_support(y_test, pred)[0]"
   ]
  },
  {
   "cell_type": "code",
   "execution_count": 149,
   "metadata": {},
   "outputs": [
    {
     "data": {
      "text/plain": [
       "[<matplotlib.lines.Line2D at 0x7f9e0dfbfb70>]"
      ]
     },
     "execution_count": 149,
     "metadata": {},
     "output_type": "execute_result"
    },
    {
     "data": {
      "image/png": "[encoded data removed]",
      "text/plain": [
       "<Figure size 432x288 with 1 Axes>"
      ]
     },
     "metadata": {
      "needs_background": "light"
     },
     "output_type": "display_data"
    }
   ],
   "source": [
    "recall, precision = calc_precision_recall_plot(y_test, pred)\n",
    "plt.xlabel('Recall')\n",
    "plt.ylabel('Precision')\n",
    "plt.plot(recall, precision)"
   ]
  },
  {
   "cell_type": "markdown",
   "metadata": {},
   "source": [
    "# Таблица результатов"
   ]
  },
  {
   "cell_type": "code",
   "execution_count": 150,
   "metadata": {},
   "outputs": [],
   "source": [
    "#| metrics   | LogisticRegression | KNN | Decision Tree |\n",
    "#|-----------|:-------------:|--------:|-----------------:|\n",
    "#| precision |  0.22568      | 0.19953 |    0.12557       |\n",
    "#| recall    |  0.21023      | 0.19261 |    0.19335       |\n",
    "#| fscore    |  0.17647      | 0.17539 |    0.12851       |"
   ]
  },
  {
   "cell_type": "markdown",
   "metadata": {},
   "source": [
    "# Оптимальные параметры моделей"
   ]
  },
  {
   "cell_type": "markdown",
   "metadata": {},
   "source": [
    "LogisticRegression: C = 1\n",
    "\n",
    "SVM: C=100\n",
    "\n",
    "KNN: C=1\n",
    "\n",
    "Decision Tree: max_depth = 5, min_samples_split = 2"
   ]
  },
  {
   "cell_type": "markdown",
   "metadata": {},
   "source": [
    "# Precision-recall кривые"
   ]
  },
  {
   "cell_type": "code",
   "execution_count": 118,
   "metadata": {},
   "outputs": [],
   "source": [
    "def calc_precision_recall(y_test, predict, threesold):\n",
    "    y_test = [y_test[key] for key in y_test.keys()]\n",
    "    predict = list(predict)\n",
    "    tp = [0, 0, 0, 0, 0, 0]\n",
    "    fp = [0, 0, 0, 0, 0, 0]\n",
    "    fn = [0, 0, 0, 0, 0, 0]\n",
    "    for i in range(0, len(y_test)-1):\n",
    "        if (abs(y_test[i] - predict[i]) <= threesold):\n",
    "            if (y_test[i] == predict[i]):\n",
    "                tp[int(y_test[i])] += 1\n",
    "            else:\n",
    "                fp[int(predict[i])] += 1\n",
    "        else:\n",
    "            fn[int(y_test[i])] += 1\n",
    "    \n",
    "    precision = 0\n",
    "    recall = 0\n",
    "    for i in range(0, len(tp)):\n",
    "        precision += tp[i]/(6.0 * (tp[i] + fp[i]))\n",
    "        recall += tp[i]/(6.0 * (tp[i] + fn[i]))\n",
    "    return precision, recall"
   ]
  },
  {
   "cell_type": "code",
   "execution_count": 119,
   "metadata": {},
   "outputs": [],
   "source": [
    "def calc_precision_recall_plot(y_test, predict):\n",
    "    precision = []\n",
    "    recall = []\n",
    "    for i in range(0, 5):\n",
    "        p, r = calc_precision_recall(y_test, predict, i)\n",
    "        precision.append(p)\n",
    "        recall.append(r)\n",
    "    return recall, precision"
   ]
  },
  {
   "cell_type": "code",
   "execution_count": null,
   "metadata": {},
   "outputs": [],
   "source": []
  }
 ],
 "metadata": {
  "kernelspec": {
   "display_name": "Python 3",
   "language": "python",
   "name": "python3"
  },
  "language_info": {
   "codemirror_mode": {
    "name": "ipython",
    "version": 3
   },
   "file_extension": ".py",
   "mimetype": "text/x-python",
   "name": "python",
   "nbconvert_exporter": "python",
   "pygments_lexer": "ipython3",
   "version": "3.6.6"
  }
 },
 "nbformat": 4,
 "nbformat_minor": 2
}
