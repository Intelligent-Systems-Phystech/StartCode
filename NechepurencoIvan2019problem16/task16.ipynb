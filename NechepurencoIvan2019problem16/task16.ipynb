{
 "cells": [
  {
   "cell_type": "code",
   "execution_count": 1,
   "metadata": {},
   "outputs": [],
   "source": [
    "import matplotlib.pyplot as plt\n",
    "import numpy as np\n",
    "import pandas as pd\n",
    "from scipy.spatial import distance_matrix\n",
    "from sklearn.model_selection import train_test_split"
   ]
  },
  {
   "cell_type": "markdown",
   "metadata": {},
   "source": [
    "### Задача 16\n",
    "\n",
    "По описанию условий посева предсказать прорастут семена растений или нет. Провести бинарную классификацию семян с помощью метода Парзеновского окна. Построить график зависимости ошибки на контроле от ширины окна. Подобрать оптимальную ширину окна."
   ]
  },
  {
   "cell_type": "code",
   "execution_count": 2,
   "metadata": {},
   "outputs": [],
   "source": [
    "columns = ['season',  'age', 'childish diseases', 'accident',  'surgical intervention', 'high fevers', \n",
    "'frequency of alcohol consumption', 'smoking habit', 'number of hours spent sitting per day', 'output']"
   ]
  },
  {
   "cell_type": "code",
   "execution_count": 3,
   "metadata": {},
   "outputs": [
    {
     "data": {
      "text/html": [
       "<div>\n",
       "<style scoped>\n",
       "    .dataframe tbody tr th:only-of-type {\n",
       "        vertical-align: middle;\n",
       "    }\n",
       "\n",
       "    .dataframe tbody tr th {\n",
       "        vertical-align: top;\n",
       "    }\n",
       "\n",
       "    .dataframe thead th {\n",
       "        text-align: right;\n",
       "    }\n",
       "</style>\n",
       "<table border=\"1\" class=\"dataframe\">\n",
       "  <thead>\n",
       "    <tr style=\"text-align: right;\">\n",
       "      <th></th>\n",
       "      <th>season</th>\n",
       "      <th>age</th>\n",
       "      <th>childish diseases</th>\n",
       "      <th>accident</th>\n",
       "      <th>surgical intervention</th>\n",
       "      <th>high fevers</th>\n",
       "      <th>frequency of alcohol consumption</th>\n",
       "      <th>smoking habit</th>\n",
       "      <th>number of hours spent sitting per day</th>\n",
       "      <th>output</th>\n",
       "    </tr>\n",
       "  </thead>\n",
       "  <tbody>\n",
       "    <tr>\n",
       "      <th>0</th>\n",
       "      <td>-0.33</td>\n",
       "      <td>0.69</td>\n",
       "      <td>0</td>\n",
       "      <td>1</td>\n",
       "      <td>1</td>\n",
       "      <td>0</td>\n",
       "      <td>0.8</td>\n",
       "      <td>0</td>\n",
       "      <td>0.88</td>\n",
       "      <td>True</td>\n",
       "    </tr>\n",
       "    <tr>\n",
       "      <th>1</th>\n",
       "      <td>-0.33</td>\n",
       "      <td>0.94</td>\n",
       "      <td>1</td>\n",
       "      <td>0</td>\n",
       "      <td>1</td>\n",
       "      <td>0</td>\n",
       "      <td>0.8</td>\n",
       "      <td>1</td>\n",
       "      <td>0.31</td>\n",
       "      <td>False</td>\n",
       "    </tr>\n",
       "    <tr>\n",
       "      <th>2</th>\n",
       "      <td>-0.33</td>\n",
       "      <td>0.50</td>\n",
       "      <td>1</td>\n",
       "      <td>0</td>\n",
       "      <td>0</td>\n",
       "      <td>0</td>\n",
       "      <td>1.0</td>\n",
       "      <td>-1</td>\n",
       "      <td>0.50</td>\n",
       "      <td>True</td>\n",
       "    </tr>\n",
       "    <tr>\n",
       "      <th>3</th>\n",
       "      <td>-0.33</td>\n",
       "      <td>0.75</td>\n",
       "      <td>0</td>\n",
       "      <td>1</td>\n",
       "      <td>1</td>\n",
       "      <td>0</td>\n",
       "      <td>1.0</td>\n",
       "      <td>-1</td>\n",
       "      <td>0.38</td>\n",
       "      <td>True</td>\n",
       "    </tr>\n",
       "    <tr>\n",
       "      <th>4</th>\n",
       "      <td>-0.33</td>\n",
       "      <td>0.67</td>\n",
       "      <td>1</td>\n",
       "      <td>1</td>\n",
       "      <td>0</td>\n",
       "      <td>0</td>\n",
       "      <td>0.8</td>\n",
       "      <td>-1</td>\n",
       "      <td>0.50</td>\n",
       "      <td>False</td>\n",
       "    </tr>\n",
       "  </tbody>\n",
       "</table>\n",
       "</div>"
      ],
      "text/plain": [
       "   season   age  childish diseases  accident  surgical intervention  \\\n",
       "0   -0.33  0.69                  0         1                      1   \n",
       "1   -0.33  0.94                  1         0                      1   \n",
       "2   -0.33  0.50                  1         0                      0   \n",
       "3   -0.33  0.75                  0         1                      1   \n",
       "4   -0.33  0.67                  1         1                      0   \n",
       "\n",
       "   high fevers  frequency of alcohol consumption  smoking habit  \\\n",
       "0            0                               0.8              0   \n",
       "1            0                               0.8              1   \n",
       "2            0                               1.0             -1   \n",
       "3            0                               1.0             -1   \n",
       "4            0                               0.8             -1   \n",
       "\n",
       "   number of hours spent sitting per day  output  \n",
       "0                                   0.88    True  \n",
       "1                                   0.31   False  \n",
       "2                                   0.50    True  \n",
       "3                                   0.38    True  \n",
       "4                                   0.50   False  "
      ]
     },
     "execution_count": 3,
     "metadata": {},
     "output_type": "execute_result"
    }
   ],
   "source": [
    "df = pd.read_csv('fertility_Diagnosis.txt', names = columns)\n",
    "df['output'] = df['output'] == 'N'\n",
    "df.head()"
   ]
  },
  {
   "cell_type": "code",
   "execution_count": 4,
   "metadata": {},
   "outputs": [
    {
     "data": {
      "text/plain": [
       "100"
      ]
     },
     "execution_count": 4,
     "metadata": {},
     "output_type": "execute_result"
    }
   ],
   "source": [
    "len(df)"
   ]
  },
  {
   "cell_type": "code",
   "execution_count": 5,
   "metadata": {},
   "outputs": [
    {
     "data": {
      "text/plain": [
       "88"
      ]
     },
     "execution_count": 5,
     "metadata": {},
     "output_type": "execute_result"
    }
   ],
   "source": [
    "np.sum(df['output'])"
   ]
  },
  {
   "cell_type": "markdown",
   "metadata": {},
   "source": [
    "С самого начала мочется объединить признаки 'Season' и 'age', создав один временной ряд, но это будет не совсем корректно: в первом случае имеем периодическое явление, а во втором графа \"год\" соответствует скорее категориальному признаку: был ли тот или иной год благоприятным для растений, скорее, независимая случайная величина. Но откажемся и от перехода к категриальным признакам: это слишком сильно повысит размерность нашего простанства."
   ]
  },
  {
   "cell_type": "code",
   "execution_count": 6,
   "metadata": {},
   "outputs": [],
   "source": [
    "X = df.drop('output', axis = 1)\n",
    "y = df['output']\n",
    "X_train, X_test, y_train, y_test = train_test_split(X, y, test_size=0.35, random_state=42)"
   ]
  },
  {
   "cell_type": "code",
   "execution_count": 19,
   "metadata": {},
   "outputs": [],
   "source": [
    "epan = lambda r : 3 / 4 * (1 - r ** 2) * (np.abs(r) <= 1)\n",
    "square = lambda r : 15 / 16 * (1 - r ** 2) ** 2 * (np.abs(r) <= 1)\n",
    "triangle = lambda r :  (1 - np.abs(r)) * (np.abs(r) <= 1)\n",
    "gaussean = lambda r : (2 * np.pi) ** (-1 / 2) * np.exp(-1 / 2 * r ** 2)\n",
    "rectangular = lambda r : 0.5 * (np.abs(r) <= 1)\n",
    "kernels = [epan, square, triangle, gaussean, rectangular]\n",
    "kernel_names = ['epan', 'square', 'triangle', 'gaussean', 'rectangular']"
   ]
  },
  {
   "cell_type": "code",
   "execution_count": null,
   "metadata": {},
   "outputs": [],
   "source": []
  },
  {
   "cell_type": "code",
   "execution_count": 20,
   "metadata": {},
   "outputs": [],
   "source": [
    "X_pos = X_train[y_train]\n",
    "X_neg = X_train[~y_train]\n",
    "\n",
    "def get_prices(X, h=1.7, K=epan):\n",
    "    dists = distance_matrix(X, X_test)\n",
    "    dists = K( dists / h)\n",
    "    return dists.sum(axis = 0)\n",
    "\n",
    "def get_error(h=1.7, K=epan):\n",
    "    answer = get_prices(X_pos, h, K) >= get_prices(X_neg, h, K)\n",
    "    return np.sum(answer != y_test) / len(answer)"
   ]
  },
  {
   "cell_type": "code",
   "execution_count": 29,
   "metadata": {},
   "outputs": [
    {
     "data": {
      "image/png": "[encoded data removed]",
      "text/plain": [
       "<Figure size 432x288 with 1 Axes>"
      ]
     },
     "metadata": {},
     "output_type": "display_data"
    },
    {
     "name": "stdout",
     "output_type": "stream",
     "text": [
      "optimumal h =  0.24224224224224225\n"
     ]
    },
    {
     "data": {
      "image/png": "[encoded data removed]",
      "text/plain": [
       "<Figure size 432x288 with 1 Axes>"
      ]
     },
     "metadata": {},
     "output_type": "display_data"
    },
    {
     "name": "stdout",
     "output_type": "stream",
     "text": [
      "optimumal h =  0.24224224224224225\n"
     ]
    },
    {
     "data": {
      "image/png": "[encoded data removed]",
      "text/plain": [
       "<Figure size 432x288 with 1 Axes>"
      ]
     },
     "metadata": {},
     "output_type": "display_data"
    },
    {
     "name": "stdout",
     "output_type": "stream",
     "text": [
      "optimumal h =  0.24224224224224225\n"
     ]
    },
    {
     "data": {
      "image/png": "[encoded data removed]",
      "text/plain": [
       "<Figure size 432x288 with 1 Axes>"
      ]
     },
     "metadata": {},
     "output_type": "display_data"
    },
    {
     "name": "stdout",
     "output_type": "stream",
     "text": [
      "optimumal h =  0.5512512512512513\n"
     ]
    },
    {
     "data": {
      "image/png": "[encoded data removed]",
      "text/plain": [
       "<Figure size 432x288 with 1 Axes>"
      ]
     },
     "metadata": {},
     "output_type": "display_data"
    },
    {
     "name": "stdout",
     "output_type": "stream",
     "text": [
      "optimumal h =  0.24224224224224225\n"
     ]
    }
   ],
   "source": [
    "h_es = np.linspace(0.1, 5, 1000)\n",
    "\n",
    "for kernel, name in zip(kernels, kernel_names):\n",
    "    accuracies = []\n",
    "    for h in h_es:\n",
    "        accuracies.append(get_error(h, kernel))\n",
    "    plt.plot(h_es, accuracies)\n",
    "    plt.title(name)\n",
    "    plt.xlabel('h')\n",
    "    plt.ylabel('loss')\n",
    "    plt.show()\n",
    "    print('optimumal h = ', h_es[np.argmin(accuracies)])"
   ]
  },
  {
   "cell_type": "markdown",
   "metadata": {},
   "source": [
    "Автор бы на стал придавать сильной статической значимости данным результатам, т. к. датасет очень маленький, и мы не можем сдалать даже валидирующую выборку. Дискретный характер поведения функции потерь,\"дерганое\" поведение  говорит на о том, что, скорее всего, мы просто подогнались к конкретным данным. "
   ]
  },
  {
   "cell_type": "code",
   "execution_count": null,
   "metadata": {},
   "outputs": [],
   "source": []
  },
  {
   "cell_type": "code",
   "execution_count": null,
   "metadata": {},
   "outputs": [],
   "source": []
  }
 ],
 "metadata": {
  "kernelspec": {
   "display_name": "Python 3",
   "language": "python",
   "name": "python3"
  },
  "language_info": {
   "codemirror_mode": {
    "name": "ipython",
    "version": 3
   },
   "file_extension": ".py",
   "mimetype": "text/x-python",
   "name": "python",
   "nbconvert_exporter": "python",
   "pygments_lexer": "ipython3",
   "version": "3.6.5"
  }
 },
 "nbformat": 4,
 "nbformat_minor": 2
}
