{
 "cells": [
  {
   "cell_type": "code",
   "execution_count": 1,
   "metadata": {},
   "outputs": [],
   "source": [
    "import pandas as pd\n",
    "import numpy as np\n",
    "import sklearn.linear_model as linear_model\n",
    "import sklearn.model_selection as model_selection\n",
    "import sklearn.tree as tree\n",
    "from sklearn.tree import _tree"
   ]
  },
  {
   "cell_type": "markdown",
   "metadata": {},
   "source": [
    "Прочитаем два датасета об употреблении школьниками алкоголя и объединим их:"
   ]
  },
  {
   "cell_type": "code",
   "execution_count": 2,
   "metadata": {},
   "outputs": [],
   "source": [
    "df1 = pd.read_csv('student-mat.csv')\n",
    "df2 = pd.read_csv('student-por.csv')\n",
    "df = pd.concat([df1, df2])\n",
    "df.reset_index(drop=True, inplace=True)"
   ]
  },
  {
   "cell_type": "code",
   "execution_count": 3,
   "metadata": {},
   "outputs": [
    {
     "data": {
      "text/plain": [
       "(1044, 33)"
      ]
     },
     "execution_count": 3,
     "metadata": {},
     "output_type": "execute_result"
    }
   ],
   "source": [
    "df.values.shape"
   ]
  },
  {
   "cell_type": "markdown",
   "metadata": {},
   "source": [
    "Как видно, в датасете 33 признака и выборка имеет размер 1044. Посмотрим на признаки:"
   ]
  },
  {
   "cell_type": "code",
   "execution_count": 4,
   "metadata": {},
   "outputs": [
    {
     "name": "stdout",
     "output_type": "stream",
     "text": [
      "school ['GP' 'MS']\n",
      "sex ['F' 'M']\n",
      "age [15 16 17 18 19 20 21 22]\n",
      "address ['R' 'U']\n",
      "famsize ['GT3' 'LE3']\n",
      "Pstatus ['A' 'T']\n",
      "Medu [0 1 2 3 4]\n",
      "Fedu [0 1 2 3 4]\n",
      "Mjob ['at_home' 'health' 'other' 'services' 'teacher']\n",
      "Fjob ['at_home' 'health' 'other' 'services' 'teacher']\n",
      "reason ['course' 'home' 'other' 'reputation']\n",
      "guardian ['father' 'mother' 'other']\n",
      "traveltime [1 2 3 4]\n",
      "studytime [1 2 3 4]\n",
      "failures [0 1 2 3]\n",
      "schoolsup ['no' 'yes']\n",
      "famsup ['no' 'yes']\n",
      "paid ['no' 'yes']\n",
      "activities ['no' 'yes']\n",
      "nursery ['no' 'yes']\n",
      "higher ['no' 'yes']\n",
      "internet ['no' 'yes']\n",
      "romantic ['no' 'yes']\n",
      "famrel [1 2 3 4 5]\n",
      "freetime [1 2 3 4 5]\n",
      "goout [1 2 3 4 5]\n",
      "Dalc [1 2 3 4 5]\n",
      "Walc [1 2 3 4 5]\n",
      "health [1 2 3 4 5]\n",
      "absences [ 0  1  2  3  4  5  6  7  8  9 10 11 12 13 14 15 16 17 18 19 20 21 22 23\n",
      " 24 25 26 28 30 32 38 40 54 56 75]\n",
      "G1 [ 0  3  4  5  6  7  8  9 10 11 12 13 14 15 16 17 18 19]\n",
      "G2 [ 0  4  5  6  7  8  9 10 11 12 13 14 15 16 17 18 19]\n",
      "G3 [ 0  1  4  5  6  7  8  9 10 11 12 13 14 15 16 17 18 19 20]\n"
     ]
    }
   ],
   "source": [
    "for i in df.columns:\n",
    "    arr = df[i].unique()\n",
    "    arr.sort()\n",
    "    print(i, arr)"
   ]
  },
  {
   "cell_type": "markdown",
   "metadata": {},
   "source": [
    "Следующая функция печатает решающее дерево:"
   ]
  },
  {
   "cell_type": "code",
   "execution_count": 5,
   "metadata": {},
   "outputs": [],
   "source": [
    "def tree_to_code(tree, feature_names):\n",
    "    tree_ = tree.tree_\n",
    "    feature_name = [\n",
    "        feature_names[i] if i != _tree.TREE_UNDEFINED else \"undefined!\"\n",
    "        for i in tree_.feature\n",
    "    ]\n",
    "    print (\"def tree({}):\".format(\", \".join(feature_names)))\n",
    "\n",
    "    def recurse(node, depth):\n",
    "        indent = \"  \" * depth\n",
    "        if tree_.feature[node] != _tree.TREE_UNDEFINED:\n",
    "            name = feature_name[node]\n",
    "            threshold = tree_.threshold[node]\n",
    "            print (\"{}if {} <= {}:\".format(indent, name, threshold))\n",
    "            recurse(tree_.children_left[node], depth + 1)\n",
    "            print (\"{}else:  # if {} > {}\".format(indent, name, threshold))\n",
    "            recurse(tree_.children_right[node], depth + 1)\n",
    "        else:\n",
    "            print (\"{}return {}\".format(indent, tree_.value[node]))\n",
    "\n",
    "    recurse(0, 1)"
   ]
  },
  {
   "cell_type": "markdown",
   "metadata": {},
   "source": [
    "Построим матрицу признаков в вещественных числах:"
   ]
  },
  {
   "cell_type": "code",
   "execution_count": 6,
   "metadata": {},
   "outputs": [],
   "source": [
    "X = df.copy()\n",
    "X.drop(['Dalc', 'Walc', 'Mjob', 'Fjob', 'reason', 'guardian'], axis=1, inplace=True)\n",
    "names = X.columns.values\n",
    "\n",
    "X.replace('GT3', 0, inplace=True)\n",
    "X.replace('LE3', 1, inplace=True)\n",
    "\n",
    "X.replace('GP', 0, inplace=True)\n",
    "X.replace('MS', 1, inplace=True)\n",
    "\n",
    "X.replace('no', 0, inplace=True)\n",
    "X.replace('yes', 1, inplace=True)\n",
    "\n",
    "X.replace('F', 0, inplace=True)\n",
    "X.replace('M', 1, inplace=True)\n",
    "\n",
    "X.replace('R', 0, inplace=True)\n",
    "X.replace('U', 1, inplace=True)\n",
    "\n",
    "X.replace('A', 0, inplace=True)\n",
    "X.replace('T', 1, inplace=True)\n",
    "\n",
    "X = X.values.astype(np.double)"
   ]
  },
  {
   "cell_type": "markdown",
   "metadata": {},
   "source": [
    "Попробуем бинаризовать признаки Walc и Dalc (употребление алкоголя в выходные и в будни) с разным порогом и посмотрим, насколько хорошо решающее дерево может различить два класса людей. Посмотрим также на F1-меру."
   ]
  },
  {
   "cell_type": "code",
   "execution_count": 7,
   "metadata": {},
   "outputs": [
    {
     "name": "stdout",
     "output_type": "stream",
     "text": [
      "Walc\n",
      "1 [0.61 0.75] 0.68\n",
      "2 [0.75 0.65] 0.7\n",
      "3 [0.88 0.59] 0.71\n",
      "4 [0.95 0.48] 0.63\n",
      "Dalc\n",
      "1 [0.82 0.6 ] 0.69\n",
      "2 [0.91 0.41] 0.56\n",
      "3 [0.96 0.29] 0.44\n",
      "4 [0.98 0.29] 0.45\n"
     ]
    }
   ],
   "source": [
    "def count_score(X, feature, threshold):\n",
    "    y = (df[feature] > threshold).values.astype(np.int)\n",
    "    iters = 100\n",
    "    score = np.array([0.0, 0.0])\n",
    "    for _ in range(iters):\n",
    "        X_train, X_test, y_train, y_test = model_selection.train_test_split(X, y, test_size=0.2)\n",
    "        model = tree.DecisionTreeClassifier()\n",
    "        model.fit(X_train, y_train)\n",
    "\n",
    "        for class_number in [0, 1]:\n",
    "            X_test_one_class, y_test_one_class = X_test[y_test == class_number], y_test[y_test == class_number]\n",
    "            score[class_number] += (model.predict(X_test_one_class) == y_test_one_class).sum() / y_test_one_class.size\n",
    "    return score / iters\n",
    "\n",
    "\n",
    "for feature in ['Walc', 'Dalc']:\n",
    "    print(feature)\n",
    "    for threshold in range(1, 5):\n",
    "        score = count_score(X, feature, threshold)\n",
    "        print(threshold, score.round(decimals=2), (2 / (1 / score[0] + 1 / score[1])).round(decimals=2))"
   ]
  },
  {
   "cell_type": "markdown",
   "metadata": {},
   "source": [
    "Вышло достаточно неплохо! Для выходных получается предсказывать употребление алкоголя чуть лучше, чем для будних дней. Посмотрим на неглубокое решающее дерево для порога 3 и выходных дней:"
   ]
  },
  {
   "cell_type": "code",
   "execution_count": 8,
   "metadata": {},
   "outputs": [
    {
     "name": "stdout",
     "output_type": "stream",
     "text": [
      "def tree(school, sex, age, address, famsize, Pstatus, Medu, Fedu, traveltime, studytime, failures, schoolsup, famsup, paid, activities, nursery, higher, internet, romantic, famrel, freetime, goout, health, absences, G1, G2, G3):\n",
      "  if goout <= 3.5:\n",
      "    if sex <= 0.5:\n",
      "      if studytime <= 1.5:\n",
      "        return [[56. 10.]]\n",
      "      else:  # if studytime > 1.5\n",
      "        return [[307.   7.]]\n",
      "    else:  # if sex > 0.5\n",
      "      if Medu <= 0.5:\n",
      "        return [[0. 2.]]\n",
      "      else:  # if Medu > 0.5\n",
      "        return [[233.  39.]]\n",
      "  else:  # if goout > 3.5\n",
      "    if sex <= 0.5:\n",
      "      if famrel <= 3.5:\n",
      "        return [[29. 17.]]\n",
      "      else:  # if famrel > 3.5\n",
      "        return [[144.  21.]]\n",
      "    else:  # if sex > 0.5\n",
      "      if famrel <= 3.5:\n",
      "        return [[ 2. 34.]]\n",
      "      else:  # if famrel > 3.5\n",
      "        return [[62. 81.]]\n"
     ]
    }
   ],
   "source": [
    "y = (df['Walc'] > 3).values.astype(np.int)\n",
    "model = tree.DecisionTreeClassifier(max_depth=3)\n",
    "model.fit(X, y)\n",
    "tree_to_code(model, names)"
   ]
  },
  {
   "cell_type": "markdown",
   "metadata": {},
   "source": [
    "Самый важный признак в модели --- goout, затем sex. Ещё сильно влияет studytime и famrel. Посмотрим, что происходит с будними днями (порог будет 2):"
   ]
  },
  {
   "cell_type": "code",
   "execution_count": 9,
   "metadata": {},
   "outputs": [
    {
     "name": "stdout",
     "output_type": "stream",
     "text": [
      "def tree(school, sex, age, address, famsize, Pstatus, Medu, Fedu, traveltime, studytime, failures, schoolsup, famsup, paid, activities, nursery, higher, internet, romantic, famrel, freetime, goout, health, absences, G1, G2, G3):\n",
      "  if sex <= 0.5:\n",
      "    if age <= 18.5:\n",
      "      if freetime <= 3.5:\n",
      "        return [[378.   7.]]\n",
      "      else:  # if freetime > 3.5\n",
      "        return [[153.  14.]]\n",
      "    else:  # if age > 18.5\n",
      "      if goout <= 4.5:\n",
      "        return [[30.  3.]]\n",
      "      else:  # if goout > 4.5\n",
      "        return [[2. 4.]]\n",
      "  else:  # if sex > 0.5\n",
      "    if goout <= 3.5:\n",
      "      if absences <= 12.5:\n",
      "        return [[239.  25.]]\n",
      "      else:  # if absences > 12.5\n",
      "        return [[4. 6.]]\n",
      "    else:  # if goout > 3.5\n",
      "      if G1 <= 12.5:\n",
      "        return [[83. 54.]]\n",
      "      else:  # if G1 > 12.5\n",
      "        return [[34.  8.]]\n"
     ]
    }
   ],
   "source": [
    "y = (df['Dalc'] > 2).values.astype(np.int)\n",
    "model = tree.DecisionTreeClassifier(max_depth=3)\n",
    "model.fit(X, y)\n",
    "tree_to_code(model, names)"
   ]
  },
  {
   "cell_type": "markdown",
   "metadata": {},
   "source": [
    "Тут опять сильно влияет пол и goout. Забавно, кстати, что тут ещё есть признаки, связанные с учёбой: прогулы (absences) и результаты какого-то экзамена (G1). На употребление алкоголя в выходные они не так сильно влияли."
   ]
  }
 ],
 "metadata": {
  "kernelspec": {
   "display_name": "Python 3",
   "language": "python",
   "name": "python3"
  },
  "language_info": {
   "codemirror_mode": {
    "name": "ipython",
    "version": 3
   },
   "file_extension": ".py",
   "mimetype": "text/x-python",
   "name": "python",
   "nbconvert_exporter": "python",
   "pygments_lexer": "ipython3",
   "version": "3.6.7"
  }
 },
 "nbformat": 4,
 "nbformat_minor": 2
}
